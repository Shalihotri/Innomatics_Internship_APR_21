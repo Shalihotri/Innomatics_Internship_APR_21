{
 "cells": [
  {
   "cell_type": "markdown",
   "metadata": {},
   "source": [
    "# Task-1 (Python Programming)\n",
    "Date - 26/04/2021"
   ]
  },
  {
   "cell_type": "markdown",
   "metadata": {},
   "source": [
    "1. Write a Program to say 'Hello,World!' with Python"
   ]
  },
  {
   "cell_type": "code",
   "execution_count": 1,
   "metadata": {},
   "outputs": [
    {
     "name": "stdout",
     "output_type": "stream",
     "text": [
      "Hello,World!\n"
     ]
    }
   ],
   "source": [
    "print('Hello,World!')"
   ]
  },
  {
   "cell_type": "markdown",
   "metadata": {},
   "source": [
    "2. Given an integer N, perform the following things:-\n",
    "- If N is odd, print **Weird**.\n",
    "- If N is even and in inclusive range of 2 to 5, print **Not Weird**\n",
    "- If N is even and in the inclusive range of 6 to 20, print **Weird**\n",
    "- If N is even and greater than 20, print **Not Weird**"
   ]
  },
  {
   "cell_type": "code",
   "execution_count": 2,
   "metadata": {},
   "outputs": [
    {
     "name": "stdout",
     "output_type": "stream",
     "text": [
      "Enter an integer : 3\n",
      "Weird\n"
     ]
    }
   ],
   "source": [
    "N = int(input('Enter an integer : '))\n",
    "if N % 2 != 0: # Integer is odd\n",
    "    print('Weird')\n",
    "elif N % 2 == 0 and 2 <= N <= 5: # Integer is even and 2 < N < 5\n",
    "    print('Not Weird')\n",
    "elif N % 2 == 0 and 6 <= N <= 20: # Integer is even and 6 < N < 20\n",
    "    print('Weird')\n",
    "elif N % 2 == 0 and N > 20: # Integer is even and N > 20 \n",
    "    print('Not Weird')\n",
    "else:\n",
    "    print('Try Again.')"
   ]
  },
  {
   "cell_type": "markdown",
   "metadata": {},
   "source": [
    "3. The provided code stub reads two integers from STDIN, A and B. Add code to print three lines where:\n",
    "- The first line contains the sum of the two numbers.\n",
    "- The second line contains the difference of the two numbers (first - second).\n",
    "- The third line contains the product of the two numbers."
   ]
  },
  {
   "cell_type": "code",
   "execution_count": 3,
   "metadata": {},
   "outputs": [
    {
     "name": "stdout",
     "output_type": "stream",
     "text": [
      "Enter an integer : 3\n",
      "Enter an integer : 5\n",
      "8\n",
      "-2\n",
      "15\n"
     ]
    }
   ],
   "source": [
    "A = int(input('Enter an integer : '))\n",
    "B = int(input('Enter an integer : '))\n",
    "print(A+B)\n",
    "print(A-B)\n",
    "print(A*B)"
   ]
  },
  {
   "cell_type": "markdown",
   "metadata": {},
   "source": [
    "4. The provided code stub reads two integers, A and B, from STDIN.\n",
    "- Add logic to print two lines. The first line should contain the result of integer division, A // B. The second line should contain the result of float division, A / B.\n",
    "- No rounding or formatting is necessary."
   ]
  },
  {
   "cell_type": "code",
   "execution_count": 4,
   "metadata": {},
   "outputs": [
    {
     "name": "stdout",
     "output_type": "stream",
     "text": [
      "Enter an integer : 3\n",
      "Enter an integer : 5\n",
      "0\n",
      "0.6\n"
     ]
    }
   ],
   "source": [
    "A = int(input('Enter an integer : '))\n",
    "B = int(input('Enter an integer : '))\n",
    "print(A//B) # Integer division\n",
    "print(A/B) # Float division"
   ]
  },
  {
   "cell_type": "markdown",
   "metadata": {},
   "source": [
    "5. The provided code stub reads and integer,N, from STDIN. For all non-negative integers i < N, print (N)^2.  \n",
    "Constraints : 1 <= N <= 20"
   ]
  },
  {
   "cell_type": "code",
   "execution_count": 5,
   "metadata": {},
   "outputs": [
    {
     "name": "stdout",
     "output_type": "stream",
     "text": [
      "Enter an integer : 3\n",
      "0\n",
      "1\n",
      "4\n"
     ]
    }
   ],
   "source": [
    "N = int(input('Enter an integer : '))\n",
    "\n",
    "if (N <= 0) and (N >= 20):\n",
    "    print(\"Enter a number between 1 to 20.\")\n",
    "else:\n",
    "    for i in range(0,N):\n",
    "        print(i*i)    "
   ]
  },
  {
   "cell_type": "markdown",
   "metadata": {},
   "source": [
    "6. Given a year, determine whether it is a leap year. If it is a leap year, return the Boolean **True**, otherwise return **False**. Note that the code stub provided reads from STDIN and passes arguments to the *is_leap* function. It is only necessary to complete the *is_leap* function."
   ]
  },
  {
   "cell_type": "code",
   "execution_count": 7,
   "metadata": {},
   "outputs": [
    {
     "data": {
      "text/plain": [
       "True"
      ]
     },
     "execution_count": 7,
     "metadata": {},
     "output_type": "execute_result"
    }
   ],
   "source": [
    "def leap_year(year):\n",
    "    leap = False\n",
    "    return (((year % 4 == 0) and (year % 100 != 0)) or (year % 400 == 0))\n",
    "leap_year(2000)"
   ]
  },
  {
   "cell_type": "markdown",
   "metadata": {},
   "source": [
    "7. The included code stub will read an integer,N, from STDIN. Without using any string methods, try to print the following: *1234...N*  \n",
    "Note that \"....\" represents the consecutive values in between."
   ]
  },
  {
   "cell_type": "code",
   "execution_count": 17,
   "metadata": {},
   "outputs": [
    {
     "name": "stdout",
     "output_type": "stream",
     "text": [
      "Enter an integer : 5\n",
      "12345"
     ]
    }
   ],
   "source": [
    "A = int(input(\"Enter an integer : \"))\n",
    "for i in range(1 , A+1):\n",
    "    print(i , end = \" \")"
   ]
  }
 ],
 "metadata": {
  "kernelspec": {
   "display_name": "tf",
   "language": "python",
   "name": "tf"
  },
  "language_info": {
   "codemirror_mode": {
    "name": "ipython",
    "version": 3
   },
   "file_extension": ".py",
   "mimetype": "text/x-python",
   "name": "python",
   "nbconvert_exporter": "python",
   "pygments_lexer": "ipython3",
   "version": "3.8.8"
  }
 },
 "nbformat": 4,
 "nbformat_minor": 4
}
