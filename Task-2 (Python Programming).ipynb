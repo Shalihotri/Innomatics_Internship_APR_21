{
 "cells": [
  {
   "cell_type": "markdown",
   "metadata": {},
   "source": [
    "# Task-2 (Python Programming)\n",
    "Date - 27/04/2021\n",
    "<br></br>"
   ]
  },
  {
   "cell_type": "markdown",
   "metadata": {},
   "source": [
    "LIST COMPREHENSIONS"
   ]
  },
  {
   "cell_type": "code",
   "execution_count": 1,
   "metadata": {},
   "outputs": [
    {
     "name": "stdout",
     "output_type": "stream",
     "text": [
      "Enter the integer : 2\n",
      "Enter the integer : 3\n",
      "Enter the integer : 6\n",
      "Enter the integer : 5\n",
      "[[0, 0, 0], [0, 0, 1], [0, 0, 2], [0, 0, 3], [0, 0, 4], [0, 0, 6], [0, 1, 0], [0, 1, 1], [0, 1, 2], [0, 1, 3], [0, 1, 5], [0, 1, 6], [0, 2, 0], [0, 2, 1], [0, 2, 2], [0, 2, 4], [0, 2, 5], [0, 2, 6], [0, 3, 0], [0, 3, 1], [0, 3, 3], [0, 3, 4], [0, 3, 5], [0, 3, 6], [1, 0, 0], [1, 0, 1], [1, 0, 2], [1, 0, 3], [1, 0, 5], [1, 0, 6], [1, 1, 0], [1, 1, 1], [1, 1, 2], [1, 1, 4], [1, 1, 5], [1, 1, 6], [1, 2, 0], [1, 2, 1], [1, 2, 3], [1, 2, 4], [1, 2, 5], [1, 2, 6], [1, 3, 0], [1, 3, 2], [1, 3, 3], [1, 3, 4], [1, 3, 5], [1, 3, 6], [2, 0, 0], [2, 0, 1], [2, 0, 2], [2, 0, 4], [2, 0, 5], [2, 0, 6], [2, 1, 0], [2, 1, 1], [2, 1, 3], [2, 1, 4], [2, 1, 5], [2, 1, 6], [2, 2, 0], [2, 2, 2], [2, 2, 3], [2, 2, 4], [2, 2, 5], [2, 2, 6], [2, 3, 1], [2, 3, 2], [2, 3, 3], [2, 3, 4], [2, 3, 5], [2, 3, 6]]\n"
     ]
    }
   ],
   "source": [
    "x, y, z, n = (int(input('Enter the integer : ')) for _ in range(4))\n",
    "print([[i, j, k] for i in range(x + 1) for j in range(y + 1) for k in range(z + 1) if (( i + j + k ) != n )])"
   ]
  },
  {
   "cell_type": "markdown",
   "metadata": {},
   "source": [
    "FIND THE RUNNER-UP SCORES!"
   ]
  },
  {
   "cell_type": "code",
   "execution_count": 2,
   "metadata": {},
   "outputs": [
    {
     "name": "stdout",
     "output_type": "stream",
     "text": [
      "Enter the number of scores : 6\n",
      "Enter scores separated by space : 1 2 5 3 2 6\n",
      "The runner up score is : 5\n"
     ]
    }
   ],
   "source": [
    "N = int(input('Enter the number of scores : '))\n",
    "arr = map(int, input('Enter scores separated by space : ').split())\n",
    "print('The runner up score is :',sorted(list(set(arr)))[-2])"
   ]
  },
  {
   "cell_type": "markdown",
   "metadata": {},
   "source": [
    "NESTED LISTS"
   ]
  },
  {
   "cell_type": "code",
   "execution_count": 3,
   "metadata": {},
   "outputs": [
    {
     "name": "stdout",
     "output_type": "stream",
     "text": [
      "Enter number of student : 2\n",
      "Enter name of the student : Harsh\n",
      "Enter marks of the student : 25\n",
      "Enter name of the student : Harsh02\n",
      "Enter marks of the student : 26\n",
      "Student scoring second lowest grade is :  Harsh02\n"
     ]
    }
   ],
   "source": [
    "# Entering name and marks of a particular student. \n",
    "List = [[input('Enter name of the student : '),float(input('Enter marks of the student : '))] for i in range(int(input('Enter number of student : ')))]\n",
    "\n",
    "# Sorting marks in ascending order\n",
    "s = sorted(set([i[1] for i in List]))\n",
    "for name in sorted(i[0] for i in List if i[1] == s[1]):\n",
    "    print('Student scoring second lowest grade is : ',name)"
   ]
  },
  {
   "cell_type": "markdown",
   "metadata": {},
   "source": [
    "LISTS"
   ]
  },
  {
   "cell_type": "markdown",
   "metadata": {},
   "source": [
    "TUPLES  "
   ]
  },
  {
   "cell_type": "code",
   "execution_count": 5,
   "metadata": {},
   "outputs": [
    {
     "name": "stdout",
     "output_type": "stream",
     "text": [
      "Number of elements in the tuple are : 6\n",
      "Enter elements giving spaces : 2 6 5 3 2 6\n",
      "-4368291637622330926\n"
     ]
    }
   ],
   "source": [
    "N = int(input('Number of elements in the tuple are : '))\n",
    "List = [int(i) for i in input('Enter elements giving spaces : ').split()] # Split is used to separate values \n",
    "My_tuple = tuple(List)\n",
    "print(hash(My_tuple))"
   ]
  },
  {
   "cell_type": "markdown",
   "metadata": {},
   "source": [
    "INTRODUCTION TO SETS"
   ]
  },
  {
   "cell_type": "code",
   "execution_count": 6,
   "metadata": {},
   "outputs": [
    {
     "name": "stdout",
     "output_type": "stream",
     "text": [
      "Enter total number of trees : 5\n",
      "Enter height of each tree with space : 23 26 25 23 31\n",
      "Average height would be : 26.25\n"
     ]
    }
   ],
   "source": [
    "def average(array):\n",
    "    average = sum(set(arr))/len(set(arr))\n",
    "    return average\n",
    "\n",
    "if __name__ == '__main__':\n",
    "    N = int(input('Enter total number of trees : '))\n",
    "    arr = list(map(int, input('Enter height of each tree with space : ').split())) # Map convert string to integer.\n",
    "    result = average(arr)\n",
    "    print('Average height would be :', result)"
   ]
  },
  {
   "cell_type": "markdown",
   "metadata": {},
   "source": [
    "NO IDEA!"
   ]
  },
  {
   "cell_type": "code",
   "execution_count": 7,
   "metadata": {},
   "outputs": [
    {
     "name": "stdout",
     "output_type": "stream",
     "text": [
      "Enter elements in your temp array separated by space : 1 2 3 4 5 6\n",
      "Enter integers separated by space in Set A : 2 3 6 5\n",
      "Enter integers separated by space in Set B : 2 3 6\n",
      "My happiness meter is :  1\n"
     ]
    }
   ],
   "source": [
    "# WORKS ON FEW SAMPLES \n",
    "S = list(map(int, input('Enter elements in your temp array separated by space : ').strip().split()))\n",
    "Set_A = set(map(int,input('Enter integers separated by space in Set A : ').split()))\n",
    "Set_B = set(map(int,input('Enter integers separated by space in Set B : ').split()))\n",
    "happiness = 0\n",
    "for i in S:\n",
    "    if i in Set_A:\n",
    "        happiness = happiness + 1\n",
    "    if i in Set_B:\n",
    "        happiness = happiness - 1\n",
    "print('My happiness meter is : ',happiness)"
   ]
  },
  {
   "cell_type": "code",
   "execution_count": 8,
   "metadata": {},
   "outputs": [
    {
     "name": "stdout",
     "output_type": "stream",
     "text": [
      "Enter elements in your temp array separated by space : 2 6 5 3 2 1 6 5 2 3\n",
      "Enter integers separated by space in Set A : 2 3 6\n",
      "Enter integers separated by space in Set B : 2 3 6\n",
      "Enter M and N integers :2 3\n",
      "My happiness meter is :  0\n"
     ]
    }
   ],
   "source": [
    "# WORKS ON ALL SAMPLES\n",
    "S = list(map(int, input('Enter elements in your temp array separated by space : ').strip().split()))\n",
    "Set_A = set(map(int, input('Enter integers separated by space in Set A : ').strip().split()))\n",
    "Set_B = set(map(int, input('Enter integers separated by space in Set B : ').strip().split()))\n",
    "Z = input('Enter M and N integers :').split()\n",
    "M = int(Z[0])\n",
    "N = int(Z[1])\n",
    "happiness = 0\n",
    "for i in S:\n",
    "    if i in Set_A:\n",
    "        happiness = happiness + 1\n",
    "    if i in Set_B:\n",
    "        happiness = happiness - 1\n",
    "\n",
    "print('My happiness meter is : ',happiness)"
   ]
  },
  {
   "cell_type": "markdown",
   "metadata": {},
   "source": [
    "SYMMETRIC DIFFERENCE"
   ]
  },
  {
   "cell_type": "code",
   "execution_count": 9,
   "metadata": {},
   "outputs": [
    {
     "ename": "KeyboardInterrupt",
     "evalue": "Interrupted by user",
     "output_type": "error",
     "traceback": [
      "\u001b[1;31m---------------------------------------------------------------------------\u001b[0m",
      "\u001b[1;31mKeyboardInterrupt\u001b[0m                         Traceback (most recent call last)",
      "\u001b[1;32m<ipython-input-9-54a117395303>\u001b[0m in \u001b[0;36m<module>\u001b[1;34m\u001b[0m\n\u001b[1;32m----> 1\u001b[1;33m \u001b[0mA\u001b[0m \u001b[1;33m=\u001b[0m \u001b[0mint\u001b[0m\u001b[1;33m(\u001b[0m\u001b[0minput\u001b[0m\u001b[1;33m(\u001b[0m\u001b[1;34m'Enter number of integer in Set A : '\u001b[0m\u001b[1;33m)\u001b[0m\u001b[1;33m)\u001b[0m\u001b[1;33m\u001b[0m\u001b[1;33m\u001b[0m\u001b[0m\n\u001b[0m\u001b[0;32m      2\u001b[0m \u001b[0mlist1\u001b[0m \u001b[1;33m=\u001b[0m \u001b[0mlist\u001b[0m\u001b[1;33m(\u001b[0m\u001b[0mmap\u001b[0m\u001b[1;33m(\u001b[0m\u001b[0mint\u001b[0m\u001b[1;33m,\u001b[0m\u001b[0minput\u001b[0m\u001b[1;33m(\u001b[0m\u001b[1;34m'Enter integers separated by space : '\u001b[0m\u001b[1;33m)\u001b[0m\u001b[1;33m.\u001b[0m\u001b[0msplit\u001b[0m\u001b[1;33m(\u001b[0m\u001b[1;33m)\u001b[0m\u001b[1;33m)\u001b[0m\u001b[1;33m)\u001b[0m\u001b[1;33m\u001b[0m\u001b[1;33m\u001b[0m\u001b[0m\n\u001b[0;32m      3\u001b[0m \u001b[0mB\u001b[0m \u001b[1;33m=\u001b[0m \u001b[0mint\u001b[0m\u001b[1;33m(\u001b[0m\u001b[0minput\u001b[0m\u001b[1;33m(\u001b[0m\u001b[1;34m'Enter number of integer in Set B : '\u001b[0m\u001b[1;33m)\u001b[0m\u001b[1;33m)\u001b[0m\u001b[1;33m\u001b[0m\u001b[1;33m\u001b[0m\u001b[0m\n\u001b[0;32m      4\u001b[0m \u001b[0mlist2\u001b[0m \u001b[1;33m=\u001b[0m \u001b[0mlist\u001b[0m\u001b[1;33m(\u001b[0m\u001b[0mmap\u001b[0m\u001b[1;33m(\u001b[0m\u001b[0mint\u001b[0m\u001b[1;33m,\u001b[0m\u001b[0minput\u001b[0m\u001b[1;33m(\u001b[0m\u001b[1;34m'Enter integers separated by space : '\u001b[0m\u001b[1;33m)\u001b[0m\u001b[1;33m.\u001b[0m\u001b[0msplit\u001b[0m\u001b[1;33m(\u001b[0m\u001b[1;33m)\u001b[0m\u001b[1;33m)\u001b[0m\u001b[1;33m)\u001b[0m\u001b[1;33m\u001b[0m\u001b[1;33m\u001b[0m\u001b[0m\n\u001b[0;32m      5\u001b[0m \u001b[1;33m[\u001b[0m\u001b[0mprint\u001b[0m\u001b[1;33m(\u001b[0m\u001b[0mi\u001b[0m\u001b[1;33m)\u001b[0m \u001b[1;32mfor\u001b[0m \u001b[0mi\u001b[0m \u001b[1;32min\u001b[0m \u001b[0msorted\u001b[0m\u001b[1;33m(\u001b[0m\u001b[0mset\u001b[0m\u001b[1;33m(\u001b[0m\u001b[0mlist1\u001b[0m\u001b[1;33m)\u001b[0m\u001b[1;33m.\u001b[0m\u001b[0mdifference\u001b[0m\u001b[1;33m(\u001b[0m\u001b[0mset\u001b[0m\u001b[1;33m(\u001b[0m\u001b[0mlist2\u001b[0m\u001b[1;33m)\u001b[0m\u001b[1;33m)\u001b[0m\u001b[1;33m.\u001b[0m\u001b[0munion\u001b[0m\u001b[1;33m(\u001b[0m\u001b[0mset\u001b[0m\u001b[1;33m(\u001b[0m\u001b[0mlist2\u001b[0m\u001b[1;33m)\u001b[0m\u001b[1;33m.\u001b[0m\u001b[0mdifference\u001b[0m\u001b[1;33m(\u001b[0m\u001b[0mset\u001b[0m\u001b[1;33m(\u001b[0m\u001b[0mlist1\u001b[0m\u001b[1;33m)\u001b[0m\u001b[1;33m)\u001b[0m\u001b[1;33m)\u001b[0m\u001b[1;33m)\u001b[0m\u001b[1;33m]\u001b[0m\u001b[1;33m\u001b[0m\u001b[1;33m\u001b[0m\u001b[0m\n",
      "\u001b[1;32m~\\AppData\\Roaming\\Python\\Python38\\site-packages\\ipykernel\\kernelbase.py\u001b[0m in \u001b[0;36mraw_input\u001b[1;34m(self, prompt)\u001b[0m\n\u001b[0;32m    846\u001b[0m                 \u001b[1;34m\"raw_input was called, but this frontend does not support input requests.\"\u001b[0m\u001b[1;33m\u001b[0m\u001b[1;33m\u001b[0m\u001b[0m\n\u001b[0;32m    847\u001b[0m             )\n\u001b[1;32m--> 848\u001b[1;33m         return self._input_request(str(prompt),\n\u001b[0m\u001b[0;32m    849\u001b[0m             \u001b[0mself\u001b[0m\u001b[1;33m.\u001b[0m\u001b[0m_parent_ident\u001b[0m\u001b[1;33m,\u001b[0m\u001b[1;33m\u001b[0m\u001b[1;33m\u001b[0m\u001b[0m\n\u001b[0;32m    850\u001b[0m             \u001b[0mself\u001b[0m\u001b[1;33m.\u001b[0m\u001b[0m_parent_header\u001b[0m\u001b[1;33m,\u001b[0m\u001b[1;33m\u001b[0m\u001b[1;33m\u001b[0m\u001b[0m\n",
      "\u001b[1;32m~\\AppData\\Roaming\\Python\\Python38\\site-packages\\ipykernel\\kernelbase.py\u001b[0m in \u001b[0;36m_input_request\u001b[1;34m(self, prompt, ident, parent, password)\u001b[0m\n\u001b[0;32m    890\u001b[0m             \u001b[1;32mexcept\u001b[0m \u001b[0mKeyboardInterrupt\u001b[0m\u001b[1;33m:\u001b[0m\u001b[1;33m\u001b[0m\u001b[1;33m\u001b[0m\u001b[0m\n\u001b[0;32m    891\u001b[0m                 \u001b[1;31m# re-raise KeyboardInterrupt, to truncate traceback\u001b[0m\u001b[1;33m\u001b[0m\u001b[1;33m\u001b[0m\u001b[1;33m\u001b[0m\u001b[0m\n\u001b[1;32m--> 892\u001b[1;33m                 \u001b[1;32mraise\u001b[0m \u001b[0mKeyboardInterrupt\u001b[0m\u001b[1;33m(\u001b[0m\u001b[1;34m\"Interrupted by user\"\u001b[0m\u001b[1;33m)\u001b[0m \u001b[1;32mfrom\u001b[0m \u001b[1;32mNone\u001b[0m\u001b[1;33m\u001b[0m\u001b[1;33m\u001b[0m\u001b[0m\n\u001b[0m\u001b[0;32m    893\u001b[0m             \u001b[1;32mexcept\u001b[0m \u001b[0mException\u001b[0m \u001b[1;32mas\u001b[0m \u001b[0me\u001b[0m\u001b[1;33m:\u001b[0m\u001b[1;33m\u001b[0m\u001b[1;33m\u001b[0m\u001b[0m\n\u001b[0;32m    894\u001b[0m                 \u001b[0mself\u001b[0m\u001b[1;33m.\u001b[0m\u001b[0mlog\u001b[0m\u001b[1;33m.\u001b[0m\u001b[0mwarning\u001b[0m\u001b[1;33m(\u001b[0m\u001b[1;34m\"Invalid Message:\"\u001b[0m\u001b[1;33m,\u001b[0m \u001b[0mexc_info\u001b[0m\u001b[1;33m=\u001b[0m\u001b[1;32mTrue\u001b[0m\u001b[1;33m)\u001b[0m\u001b[1;33m\u001b[0m\u001b[1;33m\u001b[0m\u001b[0m\n",
      "\u001b[1;31mKeyboardInterrupt\u001b[0m: Interrupted by user"
     ]
    }
   ],
   "source": [
    "A = int(input('Enter number of integer in Set A : '))\n",
    "list1 = list(map(int,input('Enter integers separated by space : ').split()))\n",
    "B = int(input('Enter number of integer in Set B : '))\n",
    "list2 = list(map(int,input('Enter integers separated by space : ').split()))\n",
    "[print(i) for i in sorted(set(list1).difference(set(list2)).union(set(list2).difference(set(list1))))]"
   ]
  },
  {
   "cell_type": "markdown",
   "metadata": {},
   "source": [
    "SET.ADD()"
   ]
  },
  {
   "cell_type": "code",
   "execution_count": null,
   "metadata": {},
   "outputs": [],
   "source": [
    "A = int(input('Enter number of countries : '))\n",
    "list1 = set(map(str,input('Enter countries separated by space : ').split()))\n",
    "print('Number of unique countries :',len(list1))"
   ]
  },
  {
   "cell_type": "markdown",
   "metadata": {},
   "source": [
    "SET.DISCARD(), REMOVE() AND POP()"
   ]
  },
  {
   "cell_type": "code",
   "execution_count": null,
   "metadata": {},
   "outputs": [],
   "source": [
    "N = int(input('Enter number of integers in array : '))\n",
    "Elements = set(map(int,input('Enter elements separated by space : ').split()))\n",
    "Commands = int(input('Enter number of commands : '))\n",
    "for i in range(Commands):\n",
    "    ip = input('Enter another set : ').split()\n",
    "    if ip[0]==\"remove\":\n",
    "        Elements.remove(int(ip[1]))\n",
    "    elif ip[0]==\"discard\":\n",
    "        Elements.discard(int(ip[1]))\n",
    "    else :\n",
    "        Elements.pop()\n",
    "print(sum(list(Elements)))"
   ]
  },
  {
   "cell_type": "markdown",
   "metadata": {},
   "source": [
    "SET.UNION()"
   ]
  },
  {
   "cell_type": "code",
   "execution_count": null,
   "metadata": {},
   "outputs": [],
   "source": [
    "A = input('Enter number of students in A : ')\n",
    "Roll_number_A = set(map(int,input('Enter Roll numbers seperated by space : ').split()))\n",
    "B = input('Enter number of students in B : ')\n",
    "Roll_number_B = set(map(int,input('Enter Roll numbers seperated by space : ').split()))\n",
    "C = Roll_number_A.union(Roll_number_B)\n",
    "print(len(C))"
   ]
  },
  {
   "cell_type": "markdown",
   "metadata": {},
   "source": [
    "SET.INTERSECTION()"
   ]
  },
  {
   "cell_type": "code",
   "execution_count": null,
   "metadata": {},
   "outputs": [],
   "source": [
    "A = input('Enter number of students in A : ')\n",
    "Roll_number_A = set(map(int,input('Enter Roll numbers seperated by space : ').split()))\n",
    "B = input('Enter number of students in B : ')\n",
    "Roll_number_B = set(map(int,input('Enter Roll numbers seperated by space : ').split()))\n",
    "C = Roll_number_A.intersection(Roll_number_B)\n",
    "print(len(C))"
   ]
  },
  {
   "cell_type": "markdown",
   "metadata": {},
   "source": [
    "SET.DIFFERENCE()"
   ]
  },
  {
   "cell_type": "code",
   "execution_count": null,
   "metadata": {},
   "outputs": [],
   "source": [
    "A = input('Enter number of students in A : ')\n",
    "Roll_number_A = set(map(int,input('Enter Roll numbers seperated by space : ').split()))\n",
    "B = input('Enter number of students in B : ')\n",
    "Roll_number_B = set(map(int,input('Enter Roll numbers seperated by space : ').split()))\n",
    "C = Roll_number_A.difference(Roll_number_B)\n",
    "print(len(C))"
   ]
  },
  {
   "cell_type": "markdown",
   "metadata": {},
   "source": [
    "SET.SYMMETRIC_DIFFERENCE()"
   ]
  },
  {
   "cell_type": "code",
   "execution_count": null,
   "metadata": {},
   "outputs": [],
   "source": [
    "A = input('Enter number of students in A : ')\n",
    "Roll_number_A = set(map(int,input('Enter Roll numbers seperated by space : ').split()))\n",
    "B = input('Enter number of students in B : ')\n",
    "Roll_number_B = set(map(int,input('Enter Roll numbers seperated by space : ').split()))\n",
    "C = Roll_number_A.symmetric_difference(Roll_number_B)\n",
    "print(len(C))"
   ]
  },
  {
   "cell_type": "markdown",
   "metadata": {},
   "source": [
    "SET MUTATIONS"
   ]
  },
  {
   "cell_type": "code",
   "execution_count": null,
   "metadata": {},
   "outputs": [],
   "source": [
    "Set_A = int(input('Enter number of elements in your Set : '))\n",
    "Temp = set(map(int, input('Enter the elements separated by space in Set A : ').split()))\n",
    "Other_Set = int(input('Enter Number of other Sets : '))\n",
    "for i in range(Other_Set):\n",
    "    operation = input('Enter operation : ').split()\n",
    "    if operation[0] == 'intersection_update':\n",
    "        temp_storage = set(map(int, input('Enter elements separated by space : ').split()))\n",
    "        storage.intersection_update(temp_storage)\n",
    "    elif operation[0] == 'update':\n",
    "        temp_storage = set(map(int, input('Enter elements separated by space : ').split()))\n",
    "        storage.update(temp_storage)\n",
    "    elif operation[0] == 'symmetric_difference_update':\n",
    "        temp_storage = set(map(int, input('Enter elements separated by space : ').split()))\n",
    "        storage.symmetric_difference_update(temp_storage)\n",
    "    elif operation[0] == 'difference_update':\n",
    "        temp_storage = set(map(int, input('Enter elements separated by space : ').split()))\n",
    "        storage.difference_update(temp_storage)\n",
    "    else :\n",
    "        False\n",
    "print(sum(Temp))"
   ]
  },
  {
   "cell_type": "markdown",
   "metadata": {},
   "source": [
    "THE CAPTAIN'S ROOM"
   ]
  },
  {
   "cell_type": "code",
   "execution_count": null,
   "metadata": {},
   "outputs": [],
   "source": [
    "# The Logic behind this problem is to check the single unrepeated element (Since K != 1 ) which is the Captain's Room.\n",
    "N = int(input('Enter the size of the family members of each group : '))\n",
    "Members = map(int,input('Enter room numbers of the members : ').split()) # Suppose 16\n",
    "Members = sorted(Members) # Sorted arrangements\n",
    "for i in range(len(Members)): # For every Member in those 16 Members \n",
    "    if (i != len(Members) - 1):\n",
    "        if (Members[i] != Members[i-1] and Members[i] != Members[i+1]):\n",
    "            print(Members[i])\n",
    "            break\n",
    "    else:\n",
    "        print(Members[i])"
   ]
  },
  {
   "cell_type": "markdown",
   "metadata": {},
   "source": [
    "CHECK SUBSET"
   ]
  },
  {
   "cell_type": "code",
   "execution_count": null,
   "metadata": {},
   "outputs": [],
   "source": [
    "T = int(input('Enter number of test cases : '))\n",
    "for _ in range(T):\n",
    "    A = input('Enter number of elements in Set A : ')\n",
    "    Set_A = set(input('Enter elements seperated by space : ').split())\n",
    "    B = int(input('Enter number of elements in Set B : '))\n",
    "    Set_B = set(input('Enter Roll numbers seperated by space : ').split())\n",
    "    print('Is Set A a subset of Set B ? ',Set_A.issubset(Set_B))"
   ]
  },
  {
   "cell_type": "markdown",
   "metadata": {},
   "source": [
    "CHECK STRICT SUPERSET"
   ]
  },
  {
   "cell_type": "code",
   "execution_count": null,
   "metadata": {},
   "outputs": [],
   "source": [
    "# We will make a main set and N other sets and check if those N sets do belong to set A or not.\n",
    "\n",
    "Main_Set = set(input('Enter number of elements separated by space : ').split())\n",
    "N = int(input('Number of other set : '))\n",
    "output = True\n",
    "for i in range(N):\n",
    "    Other_Set = set(input('Enter elements in other set : ').split())\n",
    "    if not Other_Set.issubset(Main_Set):\n",
    "        output = False\n",
    "    if len(Other_Set) >= len(Main_Set):\n",
    "        output = False\n",
    "\n",
    "print(output)"
   ]
  }
 ],
 "metadata": {
  "kernelspec": {
   "display_name": "tf",
   "language": "python",
   "name": "tf"
  },
  "language_info": {
   "codemirror_mode": {
    "name": "ipython",
    "version": 3
   },
   "file_extension": ".py",
   "mimetype": "text/x-python",
   "name": "python",
   "nbconvert_exporter": "python",
   "pygments_lexer": "ipython3",
   "version": "3.8.8"
  }
 },
 "nbformat": 4,
 "nbformat_minor": 4
}
