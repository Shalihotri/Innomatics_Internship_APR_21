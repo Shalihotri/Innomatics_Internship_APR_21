{
 "cells": [
  {
   "cell_type": "markdown",
   "metadata": {},
   "source": [
    "# Question Bank on Statistics"
   ]
  },
  {
   "cell_type": "markdown",
   "metadata": {},
   "source": [
    "Ques.1 The ratio of boys to girls for babies born in Russia is $1.09:1$. If there is $1$ child born per birth, what proportion of Russian families with exactly $6$ children will have at least $3$ boys?\n",
    "Write a program to compute the answer using the above parameters. Then print your result, rounded to a scale of $3$ decimal places (i.e.,  format)."
   ]
  },
  {
   "cell_type": "code",
   "execution_count": 1,
   "metadata": {},
   "outputs": [],
   "source": [
    "# A FACTORIAL FUNCTION AND A BINOMIAL FUNCTION FOR BINOMIAL DISTRIBUTION PROBLEM SOLVING.\n",
    "def factorial(n):\n",
    "    if n == 1 or n == 0:\n",
    "        return 1\n",
    "    if n > 1:\n",
    "        return factorial(n - 1) * n\n",
    "def binomial(x, n, p):\n",
    "    f = factorial(n) / (factorial(n - x) * factorial(x))\n",
    "    return (f * p**x * (1.0 - p) ** (n-x))"
   ]
  },
  {
   "cell_type": "code",
   "execution_count": 5,
   "metadata": {},
   "outputs": [
    {
     "name": "stdout",
     "output_type": "stream",
     "text": [
      "Enter space separated values for boys and girls :  1.09 1\n",
      "Answer would be :  0.696\n"
     ]
    }
   ],
   "source": [
    "values = list(map(float, input('Enter space separated values for boys and girls :  ').split()))\n",
    "p = values[0] / (values[0] + values[1])\n",
    "n = 6 # CHILDREN\n",
    "result = binomial(3,n,p) + binomial(4,n,p) + binomial(5,n,p) + binomial(6,n,p)\n",
    "print('Answer would be : ',round(result, 3))"
   ]
  },
  {
   "cell_type": "markdown",
   "metadata": {},
   "source": [
    "Ques.2  A manufacturer of metal pistons finds that, on average, $12%$ of the pistons they manufacture are rejected because they are incorrectly sized. What is the probability that a batch of $10$ pistons will contain:\n",
    "1. No more than $2$ rejects?\n",
    "2. At least $2$ rejects?"
   ]
  },
  {
   "cell_type": "code",
   "execution_count": 10,
   "metadata": {},
   "outputs": [],
   "source": [
    "# A FACTORIAL FUNCTION AND A BINOMIAL FUNCTION FOR BINOMIAL DISTRIBUTION PROBLEM SOLVING.\n",
    "def factorial(n):\n",
    "    if n == 1 or n == 0:\n",
    "        return 1\n",
    "    if n > 1:\n",
    "        return factorial(n - 1) * n\n",
    "\n",
    "def binomial(x, n, p):\n",
    "    f = factorial(n) / (factorial(n - x) * factorial(x))\n",
    "    return (f * p**x * (1.0 - p)**(n-x))"
   ]
  },
  {
   "cell_type": "code",
   "execution_count": 17,
   "metadata": {},
   "outputs": [
    {
     "name": "stdout",
     "output_type": "stream",
     "text": [
      "Percentage of defective pistons and size of the current batch : 12 10\n"
     ]
    }
   ],
   "source": [
    "values = list(map(float, input('Percentage of defective pistons and size of the current batch : ').split()))\n",
    "p = (values[0] / 100)\n",
    "n = int(values[1])"
   ]
  },
  {
   "cell_type": "markdown",
   "metadata": {},
   "source": [
    "For No more then 2 rejects."
   ]
  },
  {
   "cell_type": "code",
   "execution_count": null,
   "metadata": {},
   "outputs": [],
   "source": [
    "no_more_than_2_rejects = 0\n",
    "for i in range(n):\n",
    "    if i < 3:\n",
    "        no_more_than_2_rejects = no_more_than_2_rejects + binomial(i, n, p)\n",
    "print(round(no_more_than_2_rejects, 3))"
   ]
  },
  {
   "cell_type": "markdown",
   "metadata": {},
   "source": [
    "For Atleast 2 rejects."
   ]
  },
  {
   "cell_type": "code",
   "execution_count": 16,
   "metadata": {},
   "outputs": [
    {
     "name": "stdout",
     "output_type": "stream",
     "text": [
      "0.342\n"
     ]
    }
   ],
   "source": [
    "at_least_2_rejects = 0\n",
    "for i in range(n):\n",
    "    if i > 1:\n",
    "        at_least_2_rejects = at_least_2_rejects + binomial(i, n, p)\n",
    "print(round(at_least_2_rejects, 3))"
   ]
  },
  {
   "cell_type": "markdown",
   "metadata": {},
   "source": [
    "Ques.3 In a certain plant, the time taken to assemble a car is a random variable, $X$, having a normal distribution with a mean of $20$ hours and a standard deviation of $2$ hours. What is the probability that a car can be assembled at this plant in:\n",
    "\n",
    "1. Less than $19.5$ hours?\n",
    "2. Between $20$ and $22$ hours?"
   ]
  },
  {
   "cell_type": "code",
   "execution_count": 18,
   "metadata": {},
   "outputs": [],
   "source": [
    "import math"
   ]
  },
  {
   "cell_type": "code",
   "execution_count": 19,
   "metadata": {},
   "outputs": [],
   "source": [
    "# Cumulative function for normal distribution\n",
    "def cumulative(mean, std, value):\n",
    "    return 0.5 * (1 + math.erf((value - mean) / (std * (2 ** 0.5))))"
   ]
  },
  {
   "cell_type": "code",
   "execution_count": 22,
   "metadata": {},
   "outputs": [
    {
     "name": "stdout",
     "output_type": "stream",
     "text": [
      "Enter mean and standard deviation of time to assemble a car : 20 2\n",
      "Time taken to assemble a car (Less than) : 19.5\n",
      "Time taken to assemble a car (In-between) : 20 22\n"
     ]
    }
   ],
   "source": [
    "initial_values = list(map(float, input('Enter mean and standard deviation of time to assemble a car : ').split()))\n",
    "mean = initial_values[0]\n",
    "std = initial_values[1]\n",
    "less_period = float(input('Time taken to assemble a car (Less than) : '))\n",
    "between_period = list(map(float, input('Time taken to assemble a car (In-between) : ').split()))"
   ]
  },
  {
   "cell_type": "code",
   "execution_count": 24,
   "metadata": {},
   "outputs": [
    {
     "name": "stdout",
     "output_type": "stream",
     "text": [
      "Time taken would be :  0.401\n",
      "Time taken would be :  0.341\n"
     ]
    }
   ],
   "source": [
    "print('Time taken would be : ', round(cumulative(mean, std, less_period),3))\n",
    "print('Time taken would be : ', round(cumulative(mean, std, between_period[1]) - cumulative(mean, std, between_period[0]), 3))"
   ]
  },
  {
   "cell_type": "markdown",
   "metadata": {},
   "source": [
    "Ques.4 The final grades for a Physics exam taken by a large group of students have a mean of $\\mu = 70$ and a standard deviation of $\\sigma = 10$ . If we can approximate the distribution of these grades by a normal distribution, what percentage of the students:\n",
    "\n",
    "1. Scored higher than $80$ (i.e., have a $grade > 80$ )?\n",
    "2. Passed the test (i.e., have a $grade \\geq 60$)?\n",
    "3. Failed the test (i.e., have a $grade < 60$)?"
   ]
  },
  {
   "cell_type": "code",
   "execution_count": 25,
   "metadata": {},
   "outputs": [
    {
     "name": "stdout",
     "output_type": "stream",
     "text": [
      "Enter mean and standard deviation of final grades : 70 10\n",
      "Enter first value : 80\n",
      "Enter Second value : 60\n"
     ]
    }
   ],
   "source": [
    "initial_values = list(map(float, input('Enter mean and standard deviation of final grades : ').split()))\n",
    "mean = initial_values[0]\n",
    "std = initial_values[1]\n",
    "val_first_question = float(input('Enter first value : '))\n",
    "val_sec_third_question = float(input('Enter Second value : '))"
   ]
  },
  {
   "cell_type": "code",
   "execution_count": 26,
   "metadata": {},
   "outputs": [
    {
     "name": "stdout",
     "output_type": "stream",
     "text": [
      "The answer would be :  15.87\n",
      "The answer would be :  84.13\n",
      "The answer would be :  15.87\n"
     ]
    }
   ],
   "source": [
    "print(\"The answer would be : \", round(100 - (cumulative(mean, std, val_first_question) * 100), 2))\n",
    "print(\"The answer would be : \", round(100 - (cumulative(mean, std, val_sec_third_question) * 100), 2))\n",
    "print(\"The answer would be : \", round(cumulative(mean, std, val_sec_third_question) * 100, 2))"
   ]
  },
  {
   "cell_type": "markdown",
   "metadata": {},
   "source": [
    "Ques.5 A large elevator can transport a maximum of $9800$ pounds. Suppose a load of cargo containing $49$ boxes must be transported via the elevator. The box weight of this type of cargo follows a distribution with a mean of $\\mu=205$ pounds and a standard deviation of $\\sigma = 15$ pounds. Based on this information, what is the probability that all $49$ boxes can be safely loaded into the freight elevator and transported?"
   ]
  },
  {
   "cell_type": "code",
   "execution_count": 27,
   "metadata": {},
   "outputs": [],
   "source": [
    "def cumulative(mean, std, value):\n",
    "    return 0.5 * (1 + math.erf((value - mean) / (std * (2 ** 0.5))))"
   ]
  },
  {
   "cell_type": "code",
   "execution_count": 28,
   "metadata": {},
   "outputs": [
    {
     "name": "stdout",
     "output_type": "stream",
     "text": [
      "Enter maximum weight : 9800\n",
      "Enter number of boxes : 49\n",
      "Enter value of mean : 205\n",
      "Enter value of standard deviation : 15\n"
     ]
    }
   ],
   "source": [
    "max_weight = float(input('Enter maximum weight : '))\n",
    "n = float(input('Enter number of boxes : '))\n",
    "mean = float(input('Enter value of mean : '))\n",
    "std = float(input('Enter value of standard deviation : '))\n",
    "new_mean = mean * n\n",
    "new_std = math.sqrt(n) * std"
   ]
  },
  {
   "cell_type": "code",
   "execution_count": 29,
   "metadata": {},
   "outputs": [
    {
     "name": "stdout",
     "output_type": "stream",
     "text": [
      "Transportation probability would be :  0.0098\n"
     ]
    }
   ],
   "source": [
    "print('Transportation probability would be : ', round(cumulative(new_mean, new_std, max_weight),4))"
   ]
  },
  {
   "cell_type": "markdown",
   "metadata": {},
   "source": [
    "Ques.6 The number of tickets purchased by each student for the University X vs. University Y football game follows a distribution that has a mean of $\\mu = 2.4$ and a standard deviation of $\\sigma = 2.0$.\n",
    "A few hours before the game starts, $100$ eager students line up to purchase last-minute tickets. If there are only $250$ tickets left, what is the probability that all $100$ students will be able to purchase tickets?"
   ]
  },
  {
   "cell_type": "code",
   "execution_count": 30,
   "metadata": {},
   "outputs": [
    {
     "name": "stdout",
     "output_type": "stream",
     "text": [
      "Enter number of tickets : 250\n",
      "Enter number of students : 100\n",
      "Enter mean : 2.4\n",
      "Enter standard deviation : 2.0\n"
     ]
    }
   ],
   "source": [
    "max_weight = float(input('Enter number of tickets : '))\n",
    "n = float(input('Enter number of students : '))\n",
    "mean = float(input('Enter mean : '))\n",
    "std = float(input('Enter standard deviation : '))\n",
    "new_mean = mean * n\n",
    "new_std = math.sqrt(n) * std"
   ]
  },
  {
   "cell_type": "code",
   "execution_count": 31,
   "metadata": {},
   "outputs": [
    {
     "name": "stdout",
     "output_type": "stream",
     "text": [
      "Probability of purchasing remaining 250 tickets :  0.6915\n"
     ]
    }
   ],
   "source": [
    "print(\"Probability of purchasing remaining 250 tickets : \", round(cumulative(new_mean, new_std, max_weight),4))"
   ]
  },
  {
   "cell_type": "markdown",
   "metadata": {},
   "source": [
    "Ques7. You have a sample of $100$ values from a population with mean $\\mu = 500$ and with standard deviation $\\sigma = 80$. Compute the interval that covers the middle $95%$ of the distribution of the sample mean; in other words, compute $A$ and $B$ such that $P(A < x < B) = 0.95$. Use the value of $z = 1.96$. Note that  is the z-score."
   ]
  },
  {
   "cell_type": "code",
   "execution_count": 32,
   "metadata": {},
   "outputs": [
    {
     "name": "stdout",
     "output_type": "stream",
     "text": [
      "Enter number of samples : 100\n",
      "Enter value of mean : 500\n",
      "Enter value of standard deviation : 80\n",
      "Enter confidence interval : 0.95\n",
      "Enter value of z-score : 1.96\n"
     ]
    }
   ],
   "source": [
    "n = float(input('Enter number of samples : '))\n",
    "mean = float(input('Enter value of mean : '))\n",
    "std = float(input('Enter value of standard deviation : '))\n",
    "percent_ci = float(input('Enter confidence interval : '))\n",
    "value_ci = float(input('Enter value of z-score : '))\n",
    "ci = value_ci * (std / math.sqrt(n))"
   ]
  },
  {
   "cell_type": "code",
   "execution_count": 33,
   "metadata": {},
   "outputs": [
    {
     "name": "stdout",
     "output_type": "stream",
     "text": [
      "Value of A would be :  484.32\n",
      "Value of B would be :  515.68\n"
     ]
    }
   ],
   "source": [
    "print(\"Value of A would be : \", round(mean - ci, 2))\n",
    "print(\"Value of B would be : \", round(mean + ci, 2))"
   ]
  },
  {
   "cell_type": "markdown",
   "metadata": {},
   "source": [
    "Ques.8 Given two -element data sets, $X$ and $Y$, calculate the value of the Pearson correlation coefficient."
   ]
  },
  {
   "cell_type": "code",
   "execution_count": 34,
   "metadata": {},
   "outputs": [],
   "source": [
    "import statistics as st"
   ]
  },
  {
   "cell_type": "code",
   "execution_count": 35,
   "metadata": {},
   "outputs": [],
   "source": [
    "def correlation_coefficient(n, dt_x, dt_y):\n",
    "    mean_x = st.mean(dt_x)\n",
    "    mean_y = st.mean(dt_y)\n",
    "    std_x = st.pstdev(dt_x)\n",
    "    std_y = st.pstdev(dt_y)\n",
    "    c = 0\n",
    "    for i in range(n):\n",
    "        c = c + (dt_x[i] - mean_x) * (dt_y[i] - mean_y)\n",
    "    return c / (n * std_x * std_y)"
   ]
  },
  {
   "cell_type": "code",
   "execution_count": 36,
   "metadata": {},
   "outputs": [
    {
     "name": "stdout",
     "output_type": "stream",
     "text": [
      "Enter the size of the dataset X and Y : 10\n",
      "Space separated values of dataset X : 10 9.8 8 7.8 7.7 7 6 5 4 2 \n",
      "Space separated values of dataset Y : 200 44 32 24 22 17 15 12 8 4\n"
     ]
    }
   ],
   "source": [
    "n = int(float(input('Enter the size of the dataset X and Y : ')))\n",
    "data_set_x = list(map(float, input('Space separated values of dataset X : ').split()))\n",
    "data_set_y = list(map(float, input('Space separated values of dataset Y : ').split()))"
   ]
  },
  {
   "cell_type": "code",
   "execution_count": 37,
   "metadata": {},
   "outputs": [
    {
     "name": "stdout",
     "output_type": "stream",
     "text": [
      "Value of Pearson-coefficient would be :  0.612\n"
     ]
    }
   ],
   "source": [
    "print(\"Value of Pearson-coefficient would be : \", round(correlation_coefficient(n, data_set_x, data_set_y), 3))"
   ]
  },
  {
   "cell_type": "markdown",
   "metadata": {},
   "source": [
    "Ques.9 A group of five students enrolls in Statistics immediately after taking a Math aptitude test. Each student's Math aptitude test score, $x$ , and Statistics course grade, $y$, can be expressed as the following list of $(x,y)$ points:\n",
    "  1. $(95,85)$\n",
    "  2. $(85,95)$\n",
    "  3. $(80,70)$\n",
    "  4. $(70,65)$\n",
    "  5. $(60,70)$  \n",
    "\n",
    "If a student scored an $80$ on the Math aptitude test, what grade would we expect them to achieve in Statistics? Determine the equation of the best-fit line using the least squares method, then compute and print the value of $y$ when $x = 80$ ."
   ]
  },
  {
   "cell_type": "code",
   "execution_count": 38,
   "metadata": {},
   "outputs": [],
   "source": [
    "import statistics as st"
   ]
  },
  {
   "cell_type": "code",
   "execution_count": 39,
   "metadata": {},
   "outputs": [],
   "source": [
    "n = 5\n",
    "x = [95, 85, 80, 70, 60]\n",
    "y = [85, 95, 70, 65, 70]\n",
    "mean_x = st.mean(x)\n",
    "mean_y = st.mean(y)\n",
    "x_squared = sum([x[i] ** 2 for i in range(5)])\n",
    "xy = sum([x[i]*y[i] for i in range(5)])"
   ]
  },
  {
   "cell_type": "code",
   "execution_count": 40,
   "metadata": {},
   "outputs": [],
   "source": [
    "b = (n * xy - sum(x) * sum(y)) / (n * x_squared - (sum(x) ** 2))\n",
    "a = mean_y - b * mean_x"
   ]
  },
  {
   "cell_type": "code",
   "execution_count": 41,
   "metadata": {},
   "outputs": [
    {
     "name": "stdout",
     "output_type": "stream",
     "text": [
      "78.288\n"
     ]
    }
   ],
   "source": [
    "print (round(a + 80 * b, 3))"
   ]
  },
  {
   "cell_type": "markdown",
   "metadata": {},
   "source": [
    "Ques.10 Andrea has a simple equation:  \n",
    "$Y = a + b_1.f_1 + b_2.f_2 + .... + b_m.f_m$\n",
    "\n",
    "For $(m+1)$ real constants $(a,f_1, f_2,...,f_m)$. We can say that the value of $Y$ depends on $m$ features. Andrea studies this equation for $n$ different feature sets $(a,f_1, f_2,...,f_m)$ and records each respective value of $Y$. If she has $q$ new feature sets, can you help Andrea find the value of $Y$ for each of the sets?"
   ]
  },
  {
   "cell_type": "code",
   "execution_count": 42,
   "metadata": {},
   "outputs": [],
   "source": [
    "from sklearn import linear_model"
   ]
  },
  {
   "cell_type": "code",
   "execution_count": 49,
   "metadata": {},
   "outputs": [
    {
     "name": "stdout",
     "output_type": "stream",
     "text": [
      "Enter number of observed features(M) and feature sets(N) : 2 3\n"
     ]
    }
   ],
   "source": [
    "m, n = map(int, input('Enter number of observed features(M) and feature sets(N) : ').split())\n",
    "X, Y = [], []"
   ]
  },
  {
   "cell_type": "code",
   "execution_count": 50,
   "metadata": {},
   "outputs": [
    {
     "name": "stdout",
     "output_type": "stream",
     "text": [
      "Space-separated values of features (Decimals) : 0.18 0.89 109.85\n",
      "Space-separated values of features (Decimals) : 1.0 0.26 155.72\n",
      "Space-separated values of features (Decimals) : 0.92 0.11 137.66\n"
     ]
    }
   ],
   "source": [
    "for i in range(n):\n",
    "    x = [0]\n",
    "    elements = list(map(float, input('Space-separated values of features (Decimals) : ').split()))\n",
    "    for j in range(len(elements)):\n",
    "        if j < m:\n",
    "            x.append(elements[j])\n",
    "        else:\n",
    "            Y.append(elements[j])\n",
    "    X.append(x)"
   ]
  },
  {
   "cell_type": "code",
   "execution_count": 51,
   "metadata": {},
   "outputs": [],
   "source": [
    "model = linear_model.LinearRegression()\n",
    "model.fit(X, Y)\n",
    "a = model.intercept_\n",
    "b = model.coef_"
   ]
  },
  {
   "cell_type": "code",
   "execution_count": 52,
   "metadata": {},
   "outputs": [
    {
     "name": "stdout",
     "output_type": "stream",
     "text": [
      "Enter number of feature seats to query : 3\n",
      "Space-separated values of m describing the feature sets(Decimals) : 0.49 0.18\n",
      "Space-separated values of m describing the feature sets(Decimals) : 0.57 0.83\n",
      "Space-separated values of m describing the feature sets(Decimals) : 0.56 0.64\n"
     ]
    }
   ],
   "source": [
    "q = int(input('Enter number of feature seats to query : '))\n",
    "new_X = []\n",
    "for i in range(q):\n",
    "    x = [0]\n",
    "    elements = list(map(float, input('Space-separated values of m describing the feature sets(Decimals) : ').split()))\n",
    "    for j in range(len(elements)):\n",
    "        x.append(elements[j])\n",
    "    new_X.append(x)"
   ]
  },
  {
   "cell_type": "code",
   "execution_count": 53,
   "metadata": {},
   "outputs": [
    {
     "name": "stdout",
     "output_type": "stream",
     "text": [
      "Value of Y would be :  96.88\n",
      "Value of Y would be :  147.06\n",
      "Value of Y would be :  133.8\n"
     ]
    }
   ],
   "source": [
    "result = model.predict(new_X)\n",
    "for i in range(len(result)):\n",
    "    print(\"Value of Y would be : \", round(result[i],2))"
   ]
  }
 ],
 "metadata": {
  "kernelspec": {
   "display_name": "tf",
   "language": "python",
   "name": "tf"
  },
  "language_info": {
   "codemirror_mode": {
    "name": "ipython",
    "version": 3
   },
   "file_extension": ".py",
   "mimetype": "text/x-python",
   "name": "python",
   "nbconvert_exporter": "python",
   "pygments_lexer": "ipython3",
   "version": "3.8.8"
  }
 },
 "nbformat": 4,
 "nbformat_minor": 4
}
