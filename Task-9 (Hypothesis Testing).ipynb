{
 "cells": [
  {
   "cell_type": "markdown",
   "metadata": {},
   "source": [
    "# Hypothesis Testing"
   ]
  },
  {
   "cell_type": "code",
   "execution_count": 1,
   "metadata": {},
   "outputs": [],
   "source": [
    "import matplotlib.pyplot as plt\n",
    "import numpy as np\n",
    "from scipy.stats import norm"
   ]
  },
  {
   "cell_type": "markdown",
   "metadata": {},
   "source": [
    "Z-Score function"
   ]
  },
  {
   "cell_type": "code",
   "execution_count": 2,
   "metadata": {},
   "outputs": [],
   "source": [
    "def z_score(sample_size, sample_mean, pop_mean, pop_std):\n",
    "    numerator = sample_mean - pop_mean\n",
    "    denomenator = pop_std / sample_size**0.5\n",
    "    return numerator / denomenator"
   ]
  },
  {
   "cell_type": "markdown",
   "metadata": {},
   "source": [
    "t-score function"
   ]
  },
  {
   "cell_type": "code",
   "execution_count": 3,
   "metadata": {},
   "outputs": [],
   "source": [
    "from scipy.stats import t"
   ]
  },
  {
   "cell_type": "markdown",
   "metadata": {},
   "source": [
    "We use t-static for sample size < 30 and z-static for sample size > 30\n",
    "\n",
    "**Two tailed t-test:** \n",
    "$$ |t| > t_{n-1,\\frac{\\alpha}{2}} \\Rightarrow Accept \\ H_1 \\ or \\ Reject \\ H_0 $$\n",
    "**Right tailed t-test:** \n",
    "$$ t > t_{n-1,\\alpha} \\Rightarrow Accept \\ H_1 \\ or \\ Reject \\ H_0 $$\n",
    "**Left tailed t-test:** \n",
    "$$ t < t_{n-1,\\alpha} \\Rightarrow Accept \\ H_1 \\ or \\ Reject \\ H_0 $$\n",
    "\n",
    "**Critical rejection regions**   \n",
    "1. $H_1 (\\mu < \\mu_0) $ : Reject $H_0$ if $t$ < -$t_\\alpha$   \n",
    "2. $H_1 (\\mu > \\mu_0) $ : Reject $H_0$ if $t$ > -$t_\\alpha$   \n",
    "3. $H_1 (\\mu \\neq \\mu_0) $ : Reject $H_0$ if $|t| > t_{\\frac{\\alpha}{2}}$"
   ]
  },
  {
   "cell_type": "markdown",
   "metadata": {},
   "source": [
    "### **Ques.** Pista House selling Hyderabadi Chicken Dum biryani claims that each parcel packet has $500$ grams of biryani (also mentioned on the label of packet). You are sceptic of their claims and believe that on average each packet does not contain $500$ grams of biryani. How do you prove your claim?"
   ]
  },
  {
   "cell_type": "markdown",
   "metadata": {},
   "source": [
    "**STEP : 1**   \n",
    "$H_0$ : Packet contains 500 gms. of biryani (Null hypothesis) **We reject this**    \n",
    "$H_1$ : Packet does not contain 500 gms. of biryani (Alternate hypothesis)   \n",
    "$N$ (Sample size) : 10   \n",
    "$$[490,480,473,492,422,463,478,434,499,467]$$\n",
    "$ \\bar{x} $ (Sample mean) =  469.8   \n",
    "$ \\mu_0 $ (Population mean) = 500 *Given*    \n",
    "$ s $ (Population Std.) = 50 *Assumption*\n",
    "\n",
    "**STEP : 2**   \n",
    "Level of significance = 0.01 (1% Confidence interval)   \n",
    "N = 10 \n",
    "\n",
    "**STEP : 3**  \n",
    "Apply t-test static criteria (3)  \n"
   ]
  },
  {
   "cell_type": "code",
   "execution_count": 6,
   "metadata": {},
   "outputs": [
    {
     "name": "stdout",
     "output_type": "stream",
     "text": [
      "Critical value is :  3.2498355440153697\n"
     ]
    }
   ],
   "source": [
    "# TWO-TAIL TEST \n",
    "alpha = 1 - 0.99\n",
    "t_critical = t.ppf(1 - alpha/2 , df = 9)\n",
    "print(\"Critical value is : \", t_critical)"
   ]
  },
  {
   "cell_type": "markdown",
   "metadata": {},
   "source": [
    "We reject if : \n",
    "1. t-score > 3.2498\n",
    "2. t-score < -3.2498"
   ]
  },
  {
   "cell_type": "markdown",
   "metadata": {},
   "source": [
    "**STEP : 4**  \n",
    "We are getting t-score as -1.9100\n",
    "\n",
    "**STEP : 5**   \n",
    "We fail to reject this claim."
   ]
  },
  {
   "cell_type": "markdown",
   "metadata": {},
   "source": [
    "### **Ques.2**  You have developed a new Natural Language Processing Algorithms and done a user study. You claim that the average rating given by the users is greater than 4 on a scale of 1 to 5. How do you prove this to your client?"
   ]
  },
  {
   "cell_type": "markdown",
   "metadata": {},
   "source": [
    "**STEP : 1**   \n",
    "$H_0$ : Average rating is > 4 (Null hypothesis) **We reject this**    \n",
    "$H_1$ : Average rating should be < 4 (Alternate hypothesis)   \n",
    "$N$ (Sample size) : 10   \n",
    "$$[4,2,5,1,4,2,3,1,4,2]$$\n",
    "$ \\bar{x} $ (Sample mean) =  2.8   \n",
    "$ \\mu_0 $ (Population mean) = 4 *Given*    \n",
    "$ s $ (Population Std.) = 1 *Assumption*\n",
    "\n",
    "**STEP : 2**   \n",
    "Level of significance = 0.01 (1% Confidence interval)   \n",
    "N = 10 \n",
    "\n",
    "**STEP : 3**  \n",
    "Apply t-test static criteria (1)  "
   ]
  },
  {
   "cell_type": "code",
   "execution_count": 8,
   "metadata": {},
   "outputs": [
    {
     "name": "stdout",
     "output_type": "stream",
     "text": [
      "Critical value is :  -2.8214379233005493\n"
     ]
    }
   ],
   "source": [
    "# ONE-TAIL TEST\n",
    "from scipy.stats import t\n",
    "alpha2 = 1 - 0.01\n",
    "t_critical = t.ppf(1 - alpha2, df = 9)\n",
    "print(\"Critical value is : \", t_critical)"
   ]
  },
  {
   "cell_type": "markdown",
   "metadata": {},
   "source": [
    "We reject if : \n",
    "1. t-score < -2.82144"
   ]
  },
  {
   "cell_type": "markdown",
   "metadata": {},
   "source": [
    "**STEP : 4**  \n",
    "We are getting t-score as -3.794742 which is less than t-critical\n",
    "\n",
    "**STEP : 5**   \n",
    "We reject this claim."
   ]
  },
  {
   "cell_type": "markdown",
   "metadata": {},
   "source": [
    "### **Ques.3** TATA has developed a better fuel management system for the SUV segment. They claim that with this system, on average the SUV's mileage is at least 15 km/litre?"
   ]
  },
  {
   "cell_type": "markdown",
   "metadata": {},
   "source": [
    "**STEP : 1**   \n",
    "$H_0$ : Average mileage $\\geq $ 15 km/litre (Null hypothesis) **We reject this**    \n",
    "$H_1$ : Average mileage should be $\\leq$ 15 (Alternate hypothesis)   \n",
    "$N$ (Sample size) : 10   \n",
    "$$[14.25,14.58,13.29,16.24,16.77,18.24,13.24,14.22,15.25,16.11]$$\n",
    "$ \\bar{x} $ (Sample mean) =  15.219   \n",
    "$ \\mu_0 $ (Population mean) = 15 *Given*    \n",
    "$ s $ (Population Std.) = 1 *Assumption*\n",
    "\n",
    "**STEP : 2**   \n",
    "Level of significance = 0.01 (1% Confidence interval)   \n",
    "N = 10 \n",
    "\n",
    "**STEP : 3**  \n",
    "Apply t-test static criteria (1) "
   ]
  },
  {
   "cell_type": "code",
   "execution_count": 9,
   "metadata": {},
   "outputs": [
    {
     "name": "stdout",
     "output_type": "stream",
     "text": [
      "Critical value is :  -2.8214379233005493\n"
     ]
    }
   ],
   "source": [
    "# ONE-TAIL TEST\n",
    "from scipy.stats import t\n",
    "alpha3 = 1 - 0.01\n",
    "t_critical = t.ppf(1 - alpha3, df = 9)\n",
    "print(\"Critical value is : \", t_critical)"
   ]
  },
  {
   "cell_type": "markdown",
   "metadata": {},
   "source": [
    "We reject if :\n",
    "\n",
    "t-score < -2.82144"
   ]
  },
  {
   "cell_type": "markdown",
   "metadata": {},
   "source": [
    "**STEP : 4**  \n",
    "We are getting t-score as 0.7004 which is more than t-critical\n",
    "\n",
    "**STEP : 5**   \n",
    "We fail reject this claim."
   ]
  },
  {
   "cell_type": "markdown",
   "metadata": {},
   "source": [
    "### **Ques.4** You have developed a new Machine Learning Application and claim that on average it takes less than 100 ms to predict for any future datapoint. How do you convince your client about this claim?"
   ]
  },
  {
   "cell_type": "markdown",
   "metadata": {},
   "source": [
    "**STEP : 1**   \n",
    "$H_0$ : Average time < 100 ms (Null hypothesis) **We reject this**    \n",
    "$H_1$ : Average timw should be > 10 (Alternate hypothesis)   \n",
    "$N$ (Sample size) : 10   \n",
    "$$[99.25,98.77,96.48,102.24,103.24,101.98,95.24,91.02,97.48,104.99]$$\n",
    "$ \\bar{x} $ (Sample mean) =  99.069   \n",
    "$ \\mu_0 $ (Population mean) = 100 *Given*    \n",
    "$ s $ (Population Std.) = 1 *Assumption*\n",
    "\n",
    "**STEP : 2**   \n",
    "Level of significance = 0.01 (1% Confidence interval)   \n",
    "N = 10 \n",
    "\n",
    "**STEP : 3**  \n",
    "Apply t-test static criteria (2) "
   ]
  },
  {
   "cell_type": "code",
   "execution_count": 10,
   "metadata": {},
   "outputs": [
    {
     "name": "stdout",
     "output_type": "stream",
     "text": [
      "Critical value is :  -2.8214379233005493\n"
     ]
    }
   ],
   "source": [
    "# ONE-TAIL TEST\n",
    "from scipy.stats import t\n",
    "alpha4 = 1 - 0.01\n",
    "t_critical = t.ppf(1 - alpha4, df = 9)\n",
    "print(\"Critical value is : \", t_critical)"
   ]
  },
  {
   "cell_type": "markdown",
   "metadata": {},
   "source": [
    "We reject if :\n",
    "\n",
    "t-score > -2.82144"
   ]
  },
  {
   "cell_type": "markdown",
   "metadata": {},
   "source": [
    "**STEP : 4**  \n",
    "We are getting t-score as -2.94408 which is less than t-critical\n",
    "\n",
    "**STEP : 5**   \n",
    "We fail reject this claim."
   ]
  },
  {
   "cell_type": "markdown",
   "metadata": {},
   "source": [
    "$$ * \\ THE \\ \\ \\  END * \\ $$"
   ]
  },
  {
   "cell_type": "markdown",
   "metadata": {},
   "source": [
    "#### **FOOT NOTES**"
   ]
  },
  {
   "cell_type": "code",
   "execution_count": 1,
   "metadata": {},
   "outputs": [
    {
     "name": "stdout",
     "output_type": "stream",
     "text": [
      "1.729132811521367\n"
     ]
    }
   ],
   "source": [
    "# ONE-TAIL TEST\n",
    "from scipy.stats import t\n",
    "alpha = 1 - 0.95\n",
    "t_critical = t.ppf(1 - alpha, df = 19)\n",
    "print(t_critical)"
   ]
  },
  {
   "cell_type": "code",
   "execution_count": 2,
   "metadata": {},
   "outputs": [
    {
     "name": "stdout",
     "output_type": "stream",
     "text": [
      "2.093024054408263\n"
     ]
    }
   ],
   "source": [
    "# TWO-TAIL\n",
    "beta = 1 - 0.95\n",
    "t_critical2 = t.ppf(1 - beta/2 , df = 19)\n",
    "print(t_critical2)"
   ]
  }
 ],
 "metadata": {
  "kernelspec": {
   "display_name": "tf",
   "language": "python",
   "name": "tf"
  },
  "language_info": {
   "codemirror_mode": {
    "name": "ipython",
    "version": 3
   },
   "file_extension": ".py",
   "mimetype": "text/x-python",
   "name": "python",
   "nbconvert_exporter": "python",
   "pygments_lexer": "ipython3",
   "version": "3.8.8"
  }
 },
 "nbformat": 4,
 "nbformat_minor": 4
}
