{
 "cells": [
  {
   "cell_type": "markdown",
   "metadata": {},
   "source": [
    "# Task-3 (Python Programming)\n",
    "Date - 28/04/2021\n",
    "<br></br>"
   ]
  },
  {
   "cell_type": "markdown",
   "metadata": {},
   "source": [
    "POLAR COORDINATES"
   ]
  },
  {
   "cell_type": "code",
   "execution_count": 2,
   "metadata": {},
   "outputs": [
    {
     "name": "stdout",
     "output_type": "stream",
     "text": [
      "Enter a complex Number : 5\n",
      "5.0\n",
      "0.0\n"
     ]
    }
   ],
   "source": [
    "# Enter a random complex number and find its distance from origin and the angle (theta) measured from positive x-axis \n",
    "import cmath\n",
    "Number = complex(input('Enter a complex Number : '))\n",
    "Z = complex(Number)\n",
    "print(cmath.polar(Z)[0])\n",
    "print(cmath.polar(Z)[1])"
   ]
  },
  {
   "cell_type": "markdown",
   "metadata": {},
   "source": [
    "TRIANGLE QUEST"
   ]
  },
  {
   "cell_type": "code",
   "execution_count": 3,
   "metadata": {},
   "outputs": [
    {
     "name": "stdout",
     "output_type": "stream",
     "text": [
      "Enter a number : 5\n",
      "1\n",
      "22\n",
      "333\n",
      "4444\n"
     ]
    }
   ],
   "source": [
    "# Given an integar N. We have to form a triangle of height N-1 having increasing numbers at every stage.\n",
    "# USE ONLY FOR LOOP\n",
    "Number = int(input('Enter a number : '))\n",
    "for i in range(1 , Number): \n",
    "    print(int(i * 10 ** i / 9)) # If we put 10 it won't print 9\n",
    "    \n",
    "# LOGIC EXPLANATION - Simple maths is applied. Any number multiplied by 1 or 11 or 111 or 1111 gives N or NN or NNN or NNNN.\n",
    "# We can obtain such relationship if we get 1 as quotient everytime and that can happen "
   ]
  },
  {
   "cell_type": "markdown",
   "metadata": {},
   "source": [
    "TRIANGLE QUEST 2"
   ]
  },
  {
   "cell_type": "code",
   "execution_count": 4,
   "metadata": {},
   "outputs": [
    {
     "name": "stdout",
     "output_type": "stream",
     "text": [
      "Enter a number : 5\n",
      "1.0\n",
      "121.0\n",
      "12321.0\n",
      "1234321.0\n",
      "123454321.0\n"
     ]
    }
   ],
   "source": [
    "# Given an integar N. We have to form a palindromic triangle of height N.\n",
    "Number = int(input('Enter a number : '))\n",
    "for i in range(1, Number + 1): \n",
    "    print(float((10**i-1)/(9))**2)"
   ]
  },
  {
   "cell_type": "markdown",
   "metadata": {},
   "source": [
    "MOD DIVMOD"
   ]
  },
  {
   "cell_type": "code",
   "execution_count": 8,
   "metadata": {},
   "outputs": [
    {
     "name": "stdout",
     "output_type": "stream",
     "text": [
      "Enter first number : 180\n",
      "Enter Second number : 10\n",
      "Integar division(Quotient) :  18\n",
      "Modulus division(Remainder) :  0\n",
      "Using divmod :  (18, 0)\n"
     ]
    }
   ],
   "source": [
    "A = int(input('Enter first number : '))\n",
    "B = int(input('Enter Second number : '))\n",
    "print('Integar division(Quotient) : ',A//B)\n",
    "print('Modulus division(Remainder) : ',A%B)\n",
    "print('Using divmod : ',divmod(A,B))"
   ]
  },
  {
   "cell_type": "markdown",
   "metadata": {},
   "source": [
    "POWER - MOD POWER"
   ]
  },
  {
   "cell_type": "code",
   "execution_count": 13,
   "metadata": {},
   "outputs": [
    {
     "name": "stdout",
     "output_type": "stream",
     "text": [
      "Enter first number : 2\n",
      "Enter Second number : 3\n",
      "Enter Third number : 4\n",
      "8\n",
      "0\n"
     ]
    }
   ],
   "source": [
    "A = int(input('Enter first number : '))\n",
    "B = int(input('Enter Second number : '))\n",
    "C = int(input('Enter Third number : ')) # FOR REMAINDER \n",
    "print(pow(A,B)) # A**B\n",
    "print(pow(A,B,C)) # "
   ]
  },
  {
   "cell_type": "markdown",
   "metadata": {},
   "source": [
    "INTEGERS COMES IN ALL SIZES"
   ]
  },
  {
   "cell_type": "code",
   "execution_count": 14,
   "metadata": {},
   "outputs": [
    {
     "name": "stdout",
     "output_type": "stream",
     "text": [
      "Enter first number : 2\n",
      "Enter Second number : 3\n",
      "Enter Third number : 2\n",
      "Enter Fourth number : 3\n",
      "16\n"
     ]
    }
   ],
   "source": [
    "A = int(input('Enter first number : '))\n",
    "B = int(input('Enter Second number : '))\n",
    "C = int(input('Enter Third number : ')) \n",
    "D = int(input('Enter Fourth number : '))\n",
    "print(pow(A,B) + pow(C,D))"
   ]
  },
  {
   "cell_type": "markdown",
   "metadata": {},
   "source": [
    "FIND ANGLE MBC"
   ]
  },
  {
   "cell_type": "code",
   "execution_count": 6,
   "metadata": {},
   "outputs": [
    {
     "name": "stdout",
     "output_type": "stream",
     "text": [
      "Enter length of side AB : 3\n",
      "Enter length of side BC : 4\n",
      "Length of hypotenuse is :  5.0\n",
      "37\n",
      "37°\n"
     ]
    }
   ],
   "source": [
    "import math\n",
    "AB = float(input('Enter length of side AB : '))\n",
    "BC = float(input('Enter length of side BC : '))\n",
    "AC = math.sqrt((AB**2) + (BC**2))\n",
    "print('Length of hypotenuse is : ',AC)\n",
    "MC = AC/2\n",
    "X = BC/2\n",
    "Angle = int(round(math.degrees(math.acos(X/MC))))\n",
    "Angle = str(Angle)\n",
    "print(Angle)\n",
    "print(Angle + \"°\" )"
   ]
  },
  {
   "cell_type": "code",
   "execution_count": null,
   "metadata": {},
   "outputs": [],
   "source": []
  }
 ],
 "metadata": {
  "kernelspec": {
   "display_name": "tf",
   "language": "python",
   "name": "tf"
  },
  "language_info": {
   "codemirror_mode": {
    "name": "ipython",
    "version": 3
   },
   "file_extension": ".py",
   "mimetype": "text/x-python",
   "name": "python",
   "nbconvert_exporter": "python",
   "pygments_lexer": "ipython3",
   "version": "3.8.8"
  }
 },
 "nbformat": 4,
 "nbformat_minor": 4
}
