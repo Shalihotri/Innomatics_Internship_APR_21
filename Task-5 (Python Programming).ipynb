{
 "cells": [
  {
   "cell_type": "markdown",
   "metadata": {},
   "source": [
    "# Task-5 (Python Programming)"
   ]
  },
  {
   "cell_type": "markdown",
   "metadata": {},
   "source": [
    "Detect Floating Point Number"
   ]
  },
  {
   "cell_type": "code",
   "execution_count": 2,
   "metadata": {},
   "outputs": [
    {
     "name": "stdout",
     "output_type": "stream",
     "text": [
      "Enter Number of Test Cases : 3\n",
      "Enter your Floating number to be checked : 1.00\n",
      "True\n",
      "Enter your Floating number to be checked : 23.0\n",
      "True\n",
      "Enter your Floating number to be checked : 5\n",
      "False\n"
     ]
    }
   ],
   "source": [
    "# REGEX : REGULAR EXPRESSIONS\n",
    "import re\n",
    "class Main():\n",
    "    def __init__(self): # We include self always\n",
    "        self.n = int(input('Enter Number of Test Cases : '))\n",
    "        for i in range(self.n):\n",
    "            self.s = input('Enter your Floating number to be checked : ')\n",
    "            print(bool(re.match(r'^[-+]?[0-9]*\\.[0-9]+$', self.s)))\n",
    "                    \n",
    "if __name__ == '__main__': # Main function and calling our class\n",
    "    Answer = Main()"
   ]
  },
  {
   "cell_type": "markdown",
   "metadata": {},
   "source": [
    "Group(), Groups() & Groupdict()\n",
    "\n",
    "- We have to find first repeating character in the string."
   ]
  },
  {
   "cell_type": "code",
   "execution_count": 11,
   "metadata": {},
   "outputs": [
    {
     "name": "stdout",
     "output_type": "stream",
     "text": [
      "Enter your string : 125448788\n",
      "4\n"
     ]
    }
   ],
   "source": [
    "import re\n",
    "\n",
    "expression = r\"([a-zA-Z0-9])\\1+\"\n",
    "String = re.search(expression,input('Enter your string : '))\n",
    "if String:\n",
    "    print(String.group(1))\n",
    "else:\n",
    "    print(-1)"
   ]
  },
  {
   "cell_type": "markdown",
   "metadata": {},
   "source": [
    "Re.findall() & Re.finditer()"
   ]
  },
  {
   "cell_type": "code",
   "execution_count": 15,
   "metadata": {},
   "outputs": [
    {
     "name": "stdout",
     "output_type": "stream",
     "text": [
      "Enter your string : Thiiiisistoooough\n",
      "iiii\n",
      "oooou\n"
     ]
    }
   ],
   "source": [
    "import re\n",
    "String = re.findall(r'(?<=[qwrtypsdfghjklzxcvbnm])([aeiou]{2,})(?=[qwrtypsdfghjklzxcvbnm])', input('Enter your string : ').strip(), re.IGNORECASE) # For case-sensitive\n",
    "\n",
    "if String: # Iteration for every i\n",
    "    for i in String:\n",
    "        print(i)\n",
    "else:\n",
    "    print(-1)"
   ]
  },
  {
   "cell_type": "markdown",
   "metadata": {},
   "source": [
    "Re.start() & Re.end()\n",
    "- We are given a string. We made a sub-string of it and we have to find the start and end index of the repeating character k wherever it appears inside it."
   ]
  },
  {
   "cell_type": "code",
   "execution_count": 16,
   "metadata": {},
   "outputs": [
    {
     "name": "stdout",
     "output_type": "stream",
     "text": [
      "Enter your string of words : aaeiaatr\n",
      "Enter your sub-string : aa\n",
      "(0, 1)\n",
      "(4, 5)\n"
     ]
    }
   ],
   "source": [
    "import re\n",
    "\n",
    "String, k = input('Enter your string of words : '), input('Enter your sub-string : ')\n",
    "matches = re.finditer(r'(?=(' + k + '))', String)\n",
    "\n",
    "Foundanymatch = False\n",
    "for match in matches:\n",
    "    Foundanymatch = True\n",
    "    print((match.start(1), match.end(1) - 1))\n",
    "\n",
    "if Foundanymatch == False:\n",
    "    print((-1, -1))"
   ]
  },
  {
   "cell_type": "markdown",
   "metadata": {},
   "source": [
    "Regex Substitution\n",
    "- For every 'N' lines, you have to modify something into it."
   ]
  },
  {
   "cell_type": "code",
   "execution_count": 18,
   "metadata": {},
   "outputs": [
    {
     "name": "stdout",
     "output_type": "stream",
     "text": [
      "Enter number of lines : 11\n",
      "Enter your string : a = 1;\n",
      "a = 1;\n",
      "Enter your string : b = input();\n",
      "b = input();\n",
      "Enter your string : \n",
      "\n",
      "Enter your string : if a + b > 0 && a - b < 0:\n",
      "if a + b > 0 and a - b < 0:\n",
      "Enter your string : start()\n",
      "start()\n",
      "Enter your string : elif a*b > 10 || a/b < 1:\n",
      "elif a*b > 10 or a/b < 1:\n",
      "Enter your string : stop()\n",
      "stop()\n",
      "Enter your string : print set(list(a)) | set(list(b)) \n",
      "print set(list(a)) | set(list(b)) \n",
      "Enter your string : #Note do not change &&& or ||| or & or |\n",
      "#Note do not change &&& or ||| or & or |\n",
      "Enter your string : #Only change those '&&' which have space on both sides.\n",
      "#Only change those '&&' which have space on both sides.\n",
      "Enter your string : \n",
      "\n"
     ]
    }
   ],
   "source": [
    "import re\n",
    "\n",
    "def Word(any_match):\n",
    "    if any_match.group(1) == '&&':\n",
    "        return 'and'\n",
    "    else:\n",
    "        return 'or'\n",
    "\n",
    "for _ in range(int(input('Enter number of lines : '))):\n",
    "    print(re.sub(r\"(?<= )(\\|\\||&&)(?= )\", Word,input('Enter your string : ')))"
   ]
  },
  {
   "cell_type": "markdown",
   "metadata": {},
   "source": [
    "Validating Roman Numerals\n",
    "- We have to check whether the Roman number we have entered is valid or not."
   ]
  },
  {
   "cell_type": "code",
   "execution_count": 23,
   "metadata": {},
   "outputs": [
    {
     "name": "stdout",
     "output_type": "stream",
     "text": [
      "Enter your Roman Number : XX\n",
      "True\n"
     ]
    }
   ],
   "source": [
    "Thousands = 'M{0,3}'\n",
    "Hundreds = '(C[MD]|D?C{0,3})'\n",
    "Tens = '(X[CL]|L?X{0,3})'\n",
    "Ones = '(I[VX]|V?I{0,3})'\n",
    "regex_pattern = r\"%s%s%s%s$\" % (Thousands, Hundreds, Tens, Ones)    \n",
    "\n",
    "import re\n",
    "print(str(bool(re.match(regex_pattern, input('Enter your Roman Number : ')))))"
   ]
  },
  {
   "cell_type": "markdown",
   "metadata": {},
   "source": [
    "Validating phone numbers\n",
    "- For every 'N' lines we enter, we have to check whether its a valid phone number or not."
   ]
  },
  {
   "cell_type": "code",
   "execution_count": 25,
   "metadata": {},
   "outputs": [
    {
     "name": "stdout",
     "output_type": "stream",
     "text": [
      "Enter number of lines : 2\n",
      "Enter your mobile number : 9974521542\n",
      "YES\n",
      "Enter your mobile number : 3325412544\n",
      "NO\n"
     ]
    }
   ],
   "source": [
    "import re\n",
    "N = int(input('Enter number of lines : '))\n",
    "\n",
    "for i in range(N):\n",
    "    Phone_number = input('Enter your mobile number : ')\n",
    "    if(len(Phone_number)==10 and Phone_number.isdigit()):\n",
    "        Valid = re.findall(r\"^[789]\\d{9}$\",Phone_number)\n",
    "        if(len(Valid)==1):\n",
    "            print(\"YES\")\n",
    "        else:\n",
    "            print(\"NO\")\n",
    "    else:\n",
    "        print(\"NO\")"
   ]
  },
  {
   "cell_type": "markdown",
   "metadata": {},
   "source": [
    "Validating and Parsing Email Addresses\n",
    "- For every 'N' lines we enter, we have to check whether its a valid name + e-mail or not."
   ]
  },
  {
   "cell_type": "code",
   "execution_count": 29,
   "metadata": {},
   "outputs": [
    {
     "name": "stdout",
     "output_type": "stream",
     "text": [
      "Enter number of lines : 2\n",
      "Enter Name and E-mail with space-separated values : DEXTER <dexter@hotmail.com>\n",
      "DEXTER <dexter@hotmail.com>\n",
      "Enter Name and E-mail with space-separated values : VIRUS <virus!@variable.:p>\n"
     ]
    }
   ],
   "source": [
    "import re\n",
    "N = int(input('Enter number of lines : '))\n",
    "\n",
    "for i in range(N):\n",
    "    Name, E_mail = input('Enter Name and E-mail with space-separated values : ').split()\n",
    "    Regular_pattern = \"<[a-z][a-zA-Z0-9\\-\\.\\_]+@[a-zA-Z]+\\.[a-zA-Z]{1,3}>\"\n",
    "    if bool(re.match(Regular_pattern, E_mail)):\n",
    "        print(Name,E_mail)"
   ]
  },
  {
   "cell_type": "markdown",
   "metadata": {},
   "source": [
    "Hex Color Code"
   ]
  },
  {
   "cell_type": "code",
   "execution_count": 30,
   "metadata": {},
   "outputs": [
    {
     "name": "stdout",
     "output_type": "stream",
     "text": [
      "Enter Number of lines : 11\n",
      "Enter your string : #BED\n",
      "Enter your string : {\n",
      "Enter your string : color: #FfFdF8; background-color:#aef;\n",
      "#FfFdF8\n",
      "#aef\n",
      "Enter your string : font-size: 123px;\n",
      "Enter your string : background: -webkit-linear-gradient(top, #f9f9f9, #fff);\n",
      "#f9f9f9\n",
      "#fff\n",
      "Enter your string : }\n",
      "Enter your string : #Cab\n",
      "Enter your string : {\n",
      "Enter your string : background-color: #ABC;\n",
      "#ABC\n",
      "Enter your string : border: 2px dashed #fff;\n",
      "#fff\n",
      "Enter your string : } \n"
     ]
    }
   ],
   "source": [
    "import re\n",
    "Line = int(input('Enter Number of lines : '))\n",
    "in_css = False\n",
    "for _ in range(Line):\n",
    "    s = input('Enter your string : ')\n",
    "    if '{' in s:\n",
    "        in_css = True\n",
    "    elif '}' in s:\n",
    "        in_css = False\n",
    "    elif in_css:\n",
    "        for color in re.findall('#[0-9a-fA-F]{3,6}', s):\n",
    "            print(color)"
   ]
  },
  {
   "cell_type": "markdown",
   "metadata": {},
   "source": [
    "HTML Parser - Part 1\n",
    "- We have to print start tags, end tags and empty tags."
   ]
  },
  {
   "cell_type": "code",
   "execution_count": 31,
   "metadata": {},
   "outputs": [],
   "source": [
    "from html.parser import HTMLParser"
   ]
  },
  {
   "cell_type": "code",
   "execution_count": 32,
   "metadata": {},
   "outputs": [
    {
     "name": "stdout",
     "output_type": "stream",
     "text": [
      "Enter number of lines : 2\n",
      "Enter your HTML Code : <html><head><title>HTML Parser - I</title></head>\n",
      "Start : html\n",
      "Start : head\n",
      "Start : title\n",
      "End   : title\n",
      "End   : head\n",
      "Enter your HTML Code : <body data-modal-target class='1'><h1>HackerRank</h1><br /></body></html>\n",
      "Start : body\n",
      "-> data-modal-target > None\n",
      "-> class > 1\n",
      "Start : h1\n",
      "End   : h1\n",
      "Empty : br\n",
      "End   : body\n",
      "End   : html\n"
     ]
    }
   ],
   "source": [
    "class MyHTMLParser(HTMLParser):\n",
    "    def handle_starttag(self, tag, attrs):\n",
    "        print ('Start :', tag)\n",
    "        for ele in attrs:\n",
    "            print ('->', ele[0], '>', ele[1])\n",
    "\n",
    "    def handle_endtag(self, tag):\n",
    "        print ('End   :', tag)\n",
    "\n",
    "    def handle_startendtag(self, tag, attrs):\n",
    "        print ('Empty :', tag)\n",
    "        for ele in attrs:\n",
    "            print ('->', ele[0], '>', ele[1])\n",
    "\n",
    "HTMLParser = MyHTMLParser()\n",
    "for _ in range(int(input('Enter number of lines : '))):\n",
    "    HTMLParser.feed(input('Enter your HTML Code : '))"
   ]
  },
  {
   "cell_type": "markdown",
   "metadata": {},
   "source": [
    "HTML Parser - Part 2\n",
    "- We have to print single line comments, multi-line comments and the data"
   ]
  },
  {
   "cell_type": "code",
   "execution_count": 36,
   "metadata": {},
   "outputs": [
    {
     "name": "stdout",
     "output_type": "stream",
     "text": [
      "Enter number of lines : 4\n",
      "Enter your HTML Code : <!--[if IE 9]>IE9-specific content\n",
      "Enter your HTML Code : <![endif]-->\n",
      "Enter your HTML Code : <div> Welcome to HackerRank</div>\n",
      "Enter your HTML Code : <!--[if IE 9]>IE9-specific content<![endif]-->\n",
      ">>> Multi-line Comment\n",
      "[if IE 9]>IE9-specific content\n",
      "<![endif]\n",
      ">>> Data\n",
      " Welcome to HackerRank\n",
      ">>> Single-line Comment\n",
      "[if IE 9]>IE9-specific content<![endif]\n"
     ]
    }
   ],
   "source": [
    "from html.parser import HTMLParser\n",
    "\n",
    "class MyHTMLParser(HTMLParser):\n",
    "    def handle_comment(self, data):\n",
    "        if (len(data.split('\\n')) != 1):\n",
    "            print(\">>> Multi-line Comment\")\n",
    "        else:\n",
    "            print(\">>> Single-line Comment\")\n",
    "        print(data.replace(\"\\r\", \"\\n\"))\n",
    "    def handle_data(self, data):\n",
    "        if data.strip():\n",
    "            print(\">>> Data\")\n",
    "            print(data)\n",
    "Html = \" \"       \n",
    "for i in range(int(input('Enter number of lines : '))):\n",
    "    Html = Html + input('Enter your HTML Code : ').rstrip()\n",
    "    Html = Html + '\\n'\n",
    "    \n",
    "parser = MyHTMLParser()\n",
    "parser.feed(Html)\n",
    "parser.close()"
   ]
  },
  {
   "cell_type": "markdown",
   "metadata": {},
   "source": [
    "Detect HTML Tags, Attributes and Attribute Values\n",
    "- We have to detect and print all the HTML tags, attributes and attribute values."
   ]
  },
  {
   "cell_type": "code",
   "execution_count": 37,
   "metadata": {},
   "outputs": [
    {
     "name": "stdout",
     "output_type": "stream",
     "text": [
      "Enter number of lines : 9\n",
      "Enter your HTML Code : <head>\n",
      "Enter your HTML Code : <title>HTML</title>\n",
      "Enter your HTML Code : </head>\n",
      "Enter your HTML Code : <object type=\"application/x-flash\"\n",
      "Enter your HTML Code :  data=\"your-file.swf\"\n",
      "Enter your HTML Code :  width=\"0\" height=\"0\">\n",
      "Enter your HTML Code :  <!-- <param name=\"movie\" value=\"your-file.swf\" /> -->\n",
      "Enter your HTML Code :   <param name=\"quality\" value=\"high\"/>\n",
      "Enter your HTML Code : </object>\n",
      "head\n",
      "title\n",
      "object\n",
      "-> type > application/x-flash\n",
      "-> data > your-file.swf\n",
      "-> width > 0\n",
      "-> height > 0\n",
      "param\n",
      "-> name > quality\n",
      "-> value > high\n"
     ]
    }
   ],
   "source": [
    "from html.parser import HTMLParser\n",
    "class MyHTMLParser(HTMLParser):\n",
    "    def handle_starttag(self, tag, attrs):\n",
    "        print(tag)\n",
    "        for attr, value in attrs:\n",
    "            print(\"->\", attr, \">\", value)\n",
    "\n",
    "    def handle_startendtag(self, tag, attrs):\n",
    "        print(tag)\n",
    "        for attr, value in attrs:\n",
    "            print(\"->\", attr, \">\", value)\n",
    "\n",
    "Html = ''\n",
    "for _ in range(int(input('Enter number of lines : '))):\n",
    "    Html = Html + input('Enter your HTML Code : ').rstrip() + '\\n'\n",
    "\n",
    "parser = MyHTMLParser()\n",
    "parser.feed(Html)\n",
    "parser.close()"
   ]
  },
  {
   "cell_type": "markdown",
   "metadata": {},
   "source": [
    "Validating UID\n",
    "- We have to validate all randomly generated Unique Identification Number (UID)"
   ]
  },
  {
   "cell_type": "code",
   "execution_count": 38,
   "metadata": {},
   "outputs": [
    {
     "name": "stdout",
     "output_type": "stream",
     "text": [
      "Enter number of lines : 2\n",
      "Enter your UID : B1CD102354\n",
      "Invalid\n",
      "Enter your UID : B1CDEF2354\n",
      "Valid\n"
     ]
    }
   ],
   "source": [
    "import re\n",
    "\n",
    "for i in range(int(input('Enter number of lines : '))):\n",
    "    N = input('Enter your UID : ').strip()\n",
    "    if N.isalnum() and len(N) == 10:\n",
    "        if bool(re.search(r'(.*[A-Z]){2,}',N)) and bool(re.search(r'(.*[0-9]){3,}',N)):\n",
    "            if re.search(r'.*(.).*\\1+.*',N):\n",
    "                print('Invalid')\n",
    "            else:\n",
    "                print('Valid')\n",
    "        else:\n",
    "            print('Invalid')\n",
    "    else:\n",
    "        print('Invalid')"
   ]
  },
  {
   "cell_type": "markdown",
   "metadata": {},
   "source": [
    "Validating Credit Card Numbers"
   ]
  },
  {
   "cell_type": "code",
   "execution_count": 39,
   "metadata": {},
   "outputs": [
    {
     "name": "stdout",
     "output_type": "stream",
     "text": [
      "Enter number of lines : 6\n",
      "Enter your credit card details : 4123456789123456\n",
      "Valid\n",
      "Enter your credit card details : 5123-4567-8912-3456\n",
      "Valid\n",
      "Enter your credit card details : 61234-567-8912-3456\n",
      "Invalid\n",
      "Enter your credit card details : 4123356789123456\n",
      "Valid\n",
      "Enter your credit card details : 5133-3367-8912-3456\n",
      "Invalid\n",
      "Enter your credit card details : 5123 - 3567 - 8912 - 3456\n",
      "Invalid\n"
     ]
    }
   ],
   "source": [
    "import re\n",
    "for i in range(int(input('Enter number of lines : '))):\n",
    "    S = input('Enter your credit card details : ').strip()\n",
    "    pre_match = re.search(r'^[456]\\d{3}(-?)\\d{4}\\1\\d{4}\\1\\d{4}$',S)\n",
    "    if pre_match:\n",
    "        processed_string = \"\".join(pre_match.group(0).split('-'))\n",
    "        final_match = re.search(r'(\\d)\\1{3,}',processed_string)\n",
    "        if final_match:\n",
    "            print('Invalid')\n",
    "        else :\n",
    "            print('Valid')\n",
    "    else:\n",
    "        print('Invalid')"
   ]
  },
  {
   "cell_type": "markdown",
   "metadata": {},
   "source": [
    "Validating Postal Codes"
   ]
  },
  {
   "cell_type": "code",
   "execution_count": 42,
   "metadata": {},
   "outputs": [
    {
     "name": "stdout",
     "output_type": "stream",
     "text": [
      "Enter your postal code : 110067\n",
      "True\n"
     ]
    }
   ],
   "source": [
    "regex_integer_in_range = r\"^[1-9][\\d]{5}$\"\n",
    "regex_alternating_repetitive_digit_pair = r\"(\\d)(?=\\d\\1)\"\n",
    "\n",
    "import re\n",
    "P = input('Enter your postal code : ')\n",
    "\n",
    "print (bool(re.match(regex_integer_in_range, P)) \n",
    "and len(re.findall(regex_alternating_repetitive_digit_pair, P)) < 2)"
   ]
  },
  {
   "cell_type": "markdown",
   "metadata": {},
   "source": [
    "Matrix Script"
   ]
  },
  {
   "cell_type": "code",
   "execution_count": 43,
   "metadata": {},
   "outputs": [],
   "source": [
    "import math\n",
    "import os\n",
    "import random\n",
    "import re\n",
    "import sys"
   ]
  },
  {
   "cell_type": "code",
   "execution_count": 44,
   "metadata": {},
   "outputs": [
    {
     "name": "stdout",
     "output_type": "stream",
     "text": [
      "Enter number of rows and columns : 7 3\n",
      "Enter elements of your matrix : Tsi\n",
      "Enter elements of your matrix : h%x\n",
      "Enter elements of your matrix : i #\n",
      "Enter elements of your matrix : sM \n",
      "Enter elements of your matrix : $a \n",
      "Enter elements of your matrix : #t%\n",
      "Enter elements of your matrix : ir!\n",
      "This is Matrix#  %!\n"
     ]
    }
   ],
   "source": [
    "first_multiple_input = input('Enter number of rows and columns : ').rstrip().split()\n",
    "\n",
    "N = int(first_multiple_input[0]) # Rows\n",
    "M = int(first_multiple_input[1]) # Columns\n",
    "\n",
    "Matrix = []\n",
    "\n",
    "for _ in range(N):\n",
    "    Matrix_item = input('Enter elements of your matrix : ')\n",
    "    Matrix.append(Matrix_item)\n",
    "\n",
    "Matrix = list(zip(*Matrix))\n",
    "sample = str()\n",
    "\n",
    "for words in Matrix:\n",
    "    for char in words:\n",
    "        sample += char\n",
    "       \n",
    "print(re.sub(r'(?<=\\w)([^\\w\\d]+)(?=\\w)', ' ', sample))"
   ]
  }
 ],
 "metadata": {
  "kernelspec": {
   "display_name": "tf",
   "language": "python",
   "name": "tf"
  },
  "language_info": {
   "codemirror_mode": {
    "name": "ipython",
    "version": 3
   },
   "file_extension": ".py",
   "mimetype": "text/x-python",
   "name": "python",
   "nbconvert_exporter": "python",
   "pygments_lexer": "ipython3",
   "version": "3.8.8"
  }
 },
 "nbformat": 4,
 "nbformat_minor": 4
}
