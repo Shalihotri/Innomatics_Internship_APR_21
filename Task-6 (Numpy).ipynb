{
 "cells": [
  {
   "cell_type": "markdown",
   "metadata": {},
   "source": [
    "# Task-6 (Numpy)\n",
    "NumPy is a library for the Python programming language, adding support for large, multi-dimensional arrays and matrices, along with a large collection of high-level mathematical functions to operate on these arrays."
   ]
  },
  {
   "cell_type": "code",
   "execution_count": 8,
   "metadata": {},
   "outputs": [],
   "source": [
    "import numpy as np "
   ]
  },
  {
   "cell_type": "markdown",
   "metadata": {},
   "source": [
    "Arrays"
   ]
  },
  {
   "cell_type": "code",
   "execution_count": 11,
   "metadata": {},
   "outputs": [
    {
     "name": "stdout",
     "output_type": "stream",
     "text": [
      "Enter space-separated numbers : 1 2 3\n",
      "['3' '2' '1']\n"
     ]
    }
   ],
   "source": [
    "A = input('Enter space-separated numbers : ').strip().split(' ')\n",
    "A = np.array(A)\n",
    "Reversed_A = A[::-1]\n",
    "print(Reversed_A)"
   ]
  },
  {
   "cell_type": "markdown",
   "metadata": {},
   "source": [
    "Shape and Reshape"
   ]
  },
  {
   "cell_type": "code",
   "execution_count": 22,
   "metadata": {},
   "outputs": [
    {
     "name": "stdout",
     "output_type": "stream",
     "text": [
      "Enter space-separated numbers : 1 2 3 4 5 6 7 8 9\n",
      "(9,)\n",
      "[[1 2 3]\n",
      " [4 5 6]\n",
      " [7 8 9]]\n"
     ]
    }
   ],
   "source": [
    "A = np.array(input('Enter space-separated numbers : ').split(),int)\n",
    "print(A.shape)\n",
    "A = A.reshape(3,3)\n",
    "print(A)"
   ]
  },
  {
   "cell_type": "markdown",
   "metadata": {},
   "source": [
    "Transpose and Flatten"
   ]
  },
  {
   "cell_type": "code",
   "execution_count": 25,
   "metadata": {},
   "outputs": [
    {
     "name": "stdout",
     "output_type": "stream",
     "text": [
      "Enter space-separeted values of N and M : 3 3\n",
      "Enter space-separated elements : 2 4 5\n",
      "Enter space-separated elements : 3 5 6\n",
      "Enter space-separated elements : 2 4 5\n",
      "[[2 3 2]\n",
      " [4 5 4]\n",
      " [5 6 5]]\n",
      "[2 4 5 3 5 6 2 4 5]\n"
     ]
    }
   ],
   "source": [
    "# N Rows and M Columns\n",
    "N,M = map(int, input('Enter space-separeted values of N and M : ').split())\n",
    "A = np.array([input('Enter space-separated elements : ').split() for _ in range(N)],int) # Enter elements for each row. \n",
    "print(A.transpose())\n",
    "print(A.flatten())"
   ]
  },
  {
   "cell_type": "markdown",
   "metadata": {},
   "source": [
    "Concatenate"
   ]
  },
  {
   "cell_type": "code",
   "execution_count": 33,
   "metadata": {},
   "outputs": [
    {
     "name": "stdout",
     "output_type": "stream",
     "text": [
      "Enter space-separeted values of P and M and P : 4 3 2\n",
      "Enter space-separated elements : 1 2\n",
      "Enter space-separated elements : 1 2\n",
      "Enter space-separated elements : 1 2\n",
      "Enter space-separated elements : 1 2\n",
      "Enter space-separated elements : 4 3\n",
      "Enter space-separated elements : 4 3\n",
      "Enter space-separated elements : 4 3\n",
      "[[1 2]\n",
      " [1 2]\n",
      " [1 2]\n",
      " [1 2]\n",
      " [4 3]\n",
      " [4 3]\n",
      " [4 3]]\n"
     ]
    }
   ],
   "source": [
    "# N and M are rows and P is the column\n",
    "P,N,M = map(int, input('Enter space-separeted values of N and M and P : ').split())\n",
    "A = np.array([input('Enter space-separated elements : ').split() for _ in range(P)],int)\n",
    "B = np.array([input('Enter space-separated elements : ').split() for _ in range(N)],int)\n",
    "C = np.concatenate((A,B),axis = 0)\n",
    "print(C)"
   ]
  },
  {
   "cell_type": "markdown",
   "metadata": {},
   "source": [
    "Zeros and Ones"
   ]
  },
  {
   "cell_type": "code",
   "execution_count": 36,
   "metadata": {},
   "outputs": [
    {
     "name": "stdout",
     "output_type": "stream",
     "text": [
      "Enter space-separeted values of X and Y and Z : 3 3 3\n",
      "[[[0 0 0]\n",
      "  [0 0 0]\n",
      "  [0 0 0]]\n",
      "\n",
      " [[0 0 0]\n",
      "  [0 0 0]\n",
      "  [0 0 0]]\n",
      "\n",
      " [[0 0 0]\n",
      "  [0 0 0]\n",
      "  [0 0 0]]]\n",
      "[[[1 1 1]\n",
      "  [1 1 1]\n",
      "  [1 1 1]]\n",
      "\n",
      " [[1 1 1]\n",
      "  [1 1 1]\n",
      "  [1 1 1]]\n",
      "\n",
      " [[1 1 1]\n",
      "  [1 1 1]\n",
      "  [1 1 1]]]\n"
     ]
    }
   ],
   "source": [
    "A = tuple(map(int, input('Enter space-separeted values of X and Y and Z : ').split()))\n",
    "print(np.zeros(A, int))\n",
    "print(np.ones(A, int))"
   ]
  },
  {
   "cell_type": "markdown",
   "metadata": {},
   "source": [
    "Eye and Identity"
   ]
  },
  {
   "cell_type": "code",
   "execution_count": 43,
   "metadata": {},
   "outputs": [
    {
     "name": "stdout",
     "output_type": "stream",
     "text": [
      "Enter space-separeted values of N and M : 3 2\n",
      "[[1. 0.]\n",
      " [0. 1.]\n",
      " [0. 0.]]\n"
     ]
    }
   ],
   "source": [
    "N,M = map(int, input('Enter space-separeted values of N and M : ').split())\n",
    "print(np.eye(N,M))"
   ]
  },
  {
   "cell_type": "markdown",
   "metadata": {},
   "source": [
    "Array Mathematics"
   ]
  },
  {
   "cell_type": "code",
   "execution_count": 49,
   "metadata": {},
   "outputs": [
    {
     "name": "stdout",
     "output_type": "stream",
     "text": [
      "Enter space-separeted values of M and N : 1 4\n",
      "Enter space-separated elements : 1 2 3 4\n",
      "Enter space-separated elements : 5 6 7 8 \n",
      "[[ 6  8 10 12]]\n",
      "[[-4 -4 -4 -4]]\n",
      "[[ 5 12 21 32]]\n",
      "[[0.2        0.33333333 0.42857143 0.5       ]]\n",
      "[[1 2 3 4]]\n",
      "[[    1    64  2187 65536]]\n"
     ]
    }
   ],
   "source": [
    "N,M = map(int, input('Enter space-separeted values of M and N : ').split()) # N lines and M integer/line\n",
    "A = np.array([list(map(int, input('Enter space-separated elements : ').split())) for n in range(N)])\n",
    "B = np.array([list(map(int, input('Enter space-separated elements : ').split())) for n in range(N)])\n",
    "\n",
    "print(np.add(A,B))\n",
    "print(np.subtract(A,B))\n",
    "print(np.multiply(A,B))\n",
    "print(np.divide(A,B))\n",
    "print(np.mod(A,B))\n",
    "print(np.power(A,B))"
   ]
  },
  {
   "cell_type": "markdown",
   "metadata": {},
   "source": [
    "Floor, Ceil and Rint"
   ]
  },
  {
   "cell_type": "code",
   "execution_count": 56,
   "metadata": {},
   "outputs": [
    {
     "name": "stdout",
     "output_type": "stream",
     "text": [
      "Enter space-separated elements : 1.21 2.54 3.65 4.22 9.32\n",
      "[[ 2.  3.  4.  5. 10.]]\n",
      "[[1. 2. 3. 4. 9.]]\n",
      "[[1. 3. 4. 4. 9.]]\n"
     ]
    }
   ],
   "source": [
    "A = np.array([list(map(float, input('Enter space-separated elements : ').split()))])\n",
    "print(np.floor(A))\n",
    "print(np.ceil(A))\n",
    "print(np.rint(A))"
   ]
  },
  {
   "cell_type": "markdown",
   "metadata": {},
   "source": [
    "Sum and Prod"
   ]
  },
  {
   "cell_type": "code",
   "execution_count": 58,
   "metadata": {},
   "outputs": [
    {
     "name": "stdout",
     "output_type": "stream",
     "text": [
      "Enter space-separated values of N and M : 2 2\n",
      "1 2\n",
      "3 4\n",
      "24\n"
     ]
    }
   ],
   "source": [
    "N, M = map(int, input('Enter space-separated values of N and M : ').split()) # N lines and M integers/line\n",
    "A = np.array([input('Enter your numbers : ').split() for _ in range(N)], int)\n",
    "Sum = np.sum(A,axis = 0)\n",
    "Prod = np.prod(Sum,axis = 0)\n",
    "print(Prod)"
   ]
  },
  {
   "cell_type": "markdown",
   "metadata": {},
   "source": [
    "Min and Max"
   ]
  },
  {
   "cell_type": "code",
   "execution_count": 59,
   "metadata": {},
   "outputs": [
    {
     "name": "stdout",
     "output_type": "stream",
     "text": [
      "Enter space-separated values of N and M : 4 2\n",
      "2 5\n",
      "3 7\n",
      "1 3\n",
      "4 0\n",
      "3\n"
     ]
    }
   ],
   "source": [
    "N, M = map(int, input('Enter space-separated values of N and M : ').split())\n",
    "A = np.array([input('Enter your numbers : ').split() for _ in range(N)], int)\n",
    "Min = np.min(A,axis = 1)\n",
    "print(np.max(Min))"
   ]
  },
  {
   "cell_type": "markdown",
   "metadata": {},
   "source": [
    "Mean, Var and Std"
   ]
  },
  {
   "cell_type": "code",
   "execution_count": 63,
   "metadata": {},
   "outputs": [
    {
     "name": "stdout",
     "output_type": "stream",
     "text": [
      "Enter space-separated values of N and M : 2 2\n",
      "Enter your numbers : 1 2\n",
      "Enter your numbers : 3 4\n",
      "[1.5 3.5]\n",
      "[1. 1.]\n",
      "1.11803398875\n"
     ]
    }
   ],
   "source": [
    "N, M = map(int, input('Enter space-separated values of N and M : ').split())\n",
    "A = np.array([input('Enter your numbers : ').split() for _ in range(N)], int)\n",
    "print(np.mean(A,axis = 1))\n",
    "print(np.var(A,axis = 0))\n",
    "np.set_printoptions(legacy='1.13')\n",
    "print(np.std(A))"
   ]
  },
  {
   "cell_type": "markdown",
   "metadata": {},
   "source": [
    "Dot and Cross"
   ]
  },
  {
   "cell_type": "code",
   "execution_count": 66,
   "metadata": {},
   "outputs": [
    {
     "name": "stdout",
     "output_type": "stream",
     "text": [
      "Enter space-separeted values of N : 2\n",
      "Enter your numbers : 1 2\n",
      "Enter your numbers : 3 4\n",
      "Enter your numbers : 1 2\n",
      "Enter your numbers : 3 4\n",
      "[[ 7 10]\n",
      " [15 22]]\n"
     ]
    }
   ],
   "source": [
    "N = int(input('Enter space-separeted values of N : ')) # N lines and M integer/line\n",
    "A = np.array([input('Enter your numbers : ').split() for _ in range(N)], int)\n",
    "B = np.array([input('Enter your numbers : ').split() for _ in range(N)], int)\n",
    "print(np.dot(A,B))"
   ]
  },
  {
   "cell_type": "markdown",
   "metadata": {},
   "source": [
    "Inner and Outer"
   ]
  },
  {
   "cell_type": "code",
   "execution_count": 68,
   "metadata": {},
   "outputs": [
    {
     "name": "stdout",
     "output_type": "stream",
     "text": [
      "Enter your numbers : 0 1\n",
      "Enter your numbers : 2 3\n",
      "3\n",
      "[[0 0]\n",
      " [2 3]]\n"
     ]
    }
   ],
   "source": [
    "A = np.array(input('Enter your numbers : ').split(),int)\n",
    "B = np.array(input('Enter your numbers : ').split(),int)\n",
    "print(np.inner(A,B))\n",
    "print(np.outer(A,B))"
   ]
  },
  {
   "cell_type": "markdown",
   "metadata": {},
   "source": [
    "Polynomials"
   ]
  },
  {
   "cell_type": "code",
   "execution_count": 70,
   "metadata": {},
   "outputs": [
    {
     "name": "stdout",
     "output_type": "stream",
     "text": [
      "Enter space-separated values of Coefficients : 1.1 2 3\n",
      "Enter value of X  : 0\n",
      "3.0\n"
     ]
    }
   ],
   "source": [
    "# Coefficients\n",
    "A,B,C = map(float, input('Enter space-separated values of Coefficients : ').split())\n",
    "X = int(input('Enter value of X  : ')) \n",
    "print(np.polyval([A,B,C],X))"
   ]
  },
  {
   "cell_type": "markdown",
   "metadata": {},
   "source": [
    "Linear Algebra"
   ]
  },
  {
   "cell_type": "code",
   "execution_count": 74,
   "metadata": {},
   "outputs": [
    {
     "name": "stdout",
     "output_type": "stream",
     "text": [
      "Enter value of N  : 2\n",
      "Enter your numbers : 1.1 1.1\n",
      "Enter your numbers : 1.1 1.1\n",
      "0.0\n"
     ]
    }
   ],
   "source": [
    "N = int(input('Enter value of N  : ')) \n",
    "A = np.array([input('Enter your numbers : ').split() for _ in range(N)],float)\n",
    "# Output needs to be round to 2 decimal points\n",
    "print(round(np.linalg.det(A),2))"
   ]
  },
  {
   "cell_type": "code",
   "execution_count": null,
   "metadata": {},
   "outputs": [],
   "source": []
  }
 ],
 "metadata": {
  "kernelspec": {
   "display_name": "tf",
   "language": "python",
   "name": "tf"
  },
  "language_info": {
   "codemirror_mode": {
    "name": "ipython",
    "version": 3
   },
   "file_extension": ".py",
   "mimetype": "text/x-python",
   "name": "python",
   "nbconvert_exporter": "python",
   "pygments_lexer": "ipython3",
   "version": "3.8.8"
  }
 },
 "nbformat": 4,
 "nbformat_minor": 4
}
